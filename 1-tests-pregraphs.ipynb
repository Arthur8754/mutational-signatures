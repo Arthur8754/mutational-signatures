{
 "cells": [
  {
   "attachments": {},
   "cell_type": "markdown",
   "metadata": {},
   "source": [
    "# Test 1 : compare pre-graphs\n",
    "In this notebook, we compare, for GCN model with euclidean distance, the possible pre-graphs : fully connected, tumour type, KMeans, Spectral clustering, and Hierarchical clustering. We use the whole dataset with mutational signatures, all normalized."
   ]
  },
  {
   "attachments": {},
   "cell_type": "markdown",
   "metadata": {},
   "source": [
    "## Table of contents\n",
    "\n",
    "1. [Fully connected pre-graph](#1-fully-connected)\n",
    "2. [Tumour type pre-graph](#2-pre-graph)\n",
    "3. [KMeans pre-graph](#3-kmeans)\n",
    "4. [Evaluate performances for each pre-graph](#4-performances)"
   ]
  },
  {
   "cell_type": "code",
   "execution_count": 1,
   "metadata": {},
   "outputs": [],
   "source": [
    "import pandas as pd\n",
    "import matplotlib.pyplot as plt\n",
    "import numpy as np\n",
    "\n",
    "from evaluation.ClassificationMetrics import ClassificationMetrics\n",
    "\n",
    "from manage.GCNClassifierTrainTestManager import GCNClassifierTrainTestManager\n",
    "\n",
    "from models.GCNClassifier import GCNClassifier\n",
    "\n",
    "from sklearn.cluster import KMeans\n",
    "\n",
    "from utils.preProcessing import preProcessing"
   ]
  },
  {
   "attachments": {},
   "cell_type": "markdown",
   "metadata": {},
   "source": [
    "## 0. Reading dataset and preprocessing"
   ]
  },
  {
   "cell_type": "code",
   "execution_count": 2,
   "metadata": {},
   "outputs": [
    {
     "name": "stdout",
     "output_type": "stream",
     "text": [
      "1 patients censored deleted\n"
     ]
    }
   ],
   "source": [
    "# Reading\n",
    "df = pd.read_excel('data/table-s1-sigmut-indel.xlsx')\n",
    "\n",
    "# Drop non naive patients\n",
    "df = df.loc[df[\"Cohort\"] == \"Naive\"]\n",
    "\n",
    "# Drop NaN values\n",
    "df = preProcessing.delete_nan_values(df)\n",
    "\n",
    "# Drop censored patients (OS)\n",
    "t = np.median(df[\"Overall survival (days)\"].to_numpy())\n",
    "df = preProcessing.drop_censored_patients(df, \"Alive_0\",\"Overall survival (days)\",t)\n",
    "\n",
    "# Extract features and label\n",
    "features_name = [\"Age at advanced disease diagnosis\",\"CD8+ T cell score\",\"Genome mut per mb\",\"Exome mut per mb\",\"CD274 expression\",\"M1M2 expression\",\"SBS1\",\"SBS2\",\"SBS3\",\"SBS4\",\"SBS5\",\"SBS7a\",\"SBS7b\",\"SBS7c\",\"SBS7d\",\"SBS8\",\"SBS10a\",\"SBS10b\",\"SBS10c\",\"SBS13\",\"SBS15\",\"SBS17a\",\"SBS17b\",\"SBS18\",\"SBS31\",\"SBS35\",\"SBS36\",\"SBS37\",\"SBS38\",\"SBS40\",\"SBS44\",\"SBS4426\",\"ID1\",\"ID2\",\"ID3\",\"ID4\",\"ID5\",\"ID6\",\"ID7\",\"ID8\",\"ID9\",\"ID10\",\"ID11\",\"ID12\",\"ID13\",\"ID14\",\"ID15\",\"ID16\",\"ID17\",\"ID18\"]\n",
    "label_name = \"Clinical benefit\"\n",
    "X = df.loc[:,features_name].to_numpy()\n",
    "y = np.where(df[label_name]==\"DCB\",1,0)\n",
    "\n",
    "# Normalize features\n",
    "X = preProcessing.normalize_data(X)"
   ]
  },
  {
   "attachments": {},
   "cell_type": "markdown",
   "metadata": {},
   "source": [
    "## 1. Fully connected pre-graph"
   ]
  },
  {
   "cell_type": "code",
   "execution_count": 3,
   "metadata": {},
   "outputs": [],
   "source": [
    "# Build group (all in same group)\n",
    "group_fully_connected = np.array([0 for k in range(df.shape[0])])"
   ]
  },
  {
   "cell_type": "code",
   "execution_count": 4,
   "metadata": {},
   "outputs": [],
   "source": [
    "# Instanciate GCN classifier with its train test manager\n",
    "gcn_clf_fc = GCNClassifier(len(features_name))\n",
    "gcn_manager_fc = GCNClassifierTrainTestManager(gcn_clf_fc)\n",
    "n_epochs = 50"
   ]
  },
  {
   "cell_type": "code",
   "execution_count": 5,
   "metadata": {},
   "outputs": [],
   "source": [
    "# Make the leave one out cross validation\n",
    "scores_fc, classes_fc, train_loss_fc, val_loss_fc, std_train_loss_fc, std_val_loss_fc, params_conv_fc, params_fc_fc = gcn_manager_fc.leave_one_out_cross_validation(X, y, group_fully_connected, n_epochs, \"euclidean\",3)"
   ]
  },
  {
   "attachments": {},
   "cell_type": "markdown",
   "metadata": {},
   "source": [
    "## 2. Tumour type pre-graph"
   ]
  },
  {
   "cell_type": "code",
   "execution_count": null,
   "metadata": {},
   "outputs": [],
   "source": [
    "# Build group\n",
    "group_tumour_type = df[\"Tumour type\"].to_numpy()"
   ]
  },
  {
   "cell_type": "code",
   "execution_count": null,
   "metadata": {},
   "outputs": [],
   "source": [
    "# Instanciate GCN classifier with its train test manager\n",
    "gcn_clf_tumour_type = GCNClassifier(len(features_name))\n",
    "gcn_manager_tumour_type = GCNClassifierTrainTestManager(gcn_clf_tumour_type)"
   ]
  },
  {
   "cell_type": "code",
   "execution_count": null,
   "metadata": {},
   "outputs": [],
   "source": [
    "# Make the leave one out cross validation\n",
    "scores_tumour_type, classes_tumour_type, train_loss_tumour_type, val_loss_tumour_type, std_train_loss_tumour_type, std_val_loss_tumour_type, params_conv_tumour_type, params_fc_tumour_type = gcn_manager_tumour_type.leave_one_out_cross_validation(X, y, group_tumour_type, n_epochs, \"euclidean\",3)"
   ]
  },
  {
   "attachments": {},
   "cell_type": "markdown",
   "metadata": {},
   "source": [
    "## 3. KMeans pre-graph"
   ]
  },
  {
   "cell_type": "code",
   "execution_count": null,
   "metadata": {},
   "outputs": [],
   "source": [
    "# Build group\n",
    "group_kmeans = KMeans(n_clusters=10, n_init=10).fit(X).labels_"
   ]
  },
  {
   "cell_type": "code",
   "execution_count": null,
   "metadata": {},
   "outputs": [],
   "source": [
    "# Instanciate GCN classifier with its train test manager\n",
    "gcn_clf_kmeans = GCNClassifier(len(features_name))\n",
    "gcn_manager_kmeans = GCNClassifierTrainTestManager(gcn_clf_kmeans)"
   ]
  },
  {
   "cell_type": "code",
   "execution_count": null,
   "metadata": {},
   "outputs": [],
   "source": [
    "# Make the leave one out cross validation\n",
    "scores_kmeans, classes_kmeans, train_loss_kmeans, val_loss_kmeans, std_train_loss_kmeans, std_val_loss_kmeans, params_conv_kmeans, params_fc_kmeans = gcn_manager_kmeans.leave_one_out_cross_validation(X, y, group_kmeans, n_epochs, \"euclidean\",3)"
   ]
  },
  {
   "attachments": {},
   "cell_type": "markdown",
   "metadata": {},
   "source": [
    "## 6. Evaluate performances"
   ]
  },
  {
   "attachments": {},
   "cell_type": "markdown",
   "metadata": {},
   "source": [
    "### Precision, recall, F1-score"
   ]
  },
  {
   "cell_type": "code",
   "execution_count": null,
   "metadata": {},
   "outputs": [],
   "source": [
    "# Fully connected\n",
    "pre_fc, rec_fc, f1_fc = ClassificationMetrics.eval_metrics_from_conf_matrix(y, classes_fc)\n",
    "\n",
    "# Tumour type\n",
    "pre_tumour_type, rec_tumour_type, f1_tumour_type = ClassificationMetrics.eval_metrics_from_conf_matrix(y, classes_tumour_type)\n",
    "\n",
    "# KMeans\n",
    "pre_kmeans, rec_kmeans, f1_kmeans = ClassificationMetrics.eval_metrics_from_conf_matrix(y, classes_kmeans)"
   ]
  },
  {
   "cell_type": "code",
   "execution_count": null,
   "metadata": {},
   "outputs": [],
   "source": [
    "fig, ax = plt.subplots(2,2,figsize=(15,7))\n",
    "\n",
    "ax[0,0].barh([\"Precision\",\"Recall\",\"F1-score\"],[pre_fc, rec_fc, f1_fc])\n",
    "ax[0,0].set_xlabel(\"Score\")\n",
    "ax[0,0].set_ylabel(\"Metrics\")\n",
    "ax[0,0].set_title(\"Fully connected pre-graph\")\n",
    "\n",
    "ax[0,1].barh([\"Precision\",\"Recall\",\"F1-score\"],[pre_tumour_type, rec_tumour_type, f1_tumour_type])\n",
    "ax[0,1].set_xlabel(\"Score\")\n",
    "ax[0,1].set_ylabel(\"Metrics\")\n",
    "ax[0,1].set_title(\"Tumour type pre-graph\")\n",
    "\n",
    "ax[1,0].barh([\"Precision\",\"Recall\",\"F1-score\"],[pre_kmeans, rec_kmeans, f1_kmeans])\n",
    "ax[1,0].set_xlabel(\"Score\")\n",
    "ax[1,0].set_ylabel(\"Metrics\")\n",
    "ax[1,0].set_title(\"KMeans pre-graph\")"
   ]
  },
  {
   "attachments": {},
   "cell_type": "markdown",
   "metadata": {},
   "source": [
    "### ROC curve and AUC"
   ]
  },
  {
   "cell_type": "code",
   "execution_count": null,
   "metadata": {},
   "outputs": [],
   "source": [
    "# Fully connected\n",
    "fpr_fc, tpr_fc, thresholds_fc = ClassificationMetrics.compute_roc_curve(y, scores_fc)\n",
    "auc_fc = ClassificationMetrics.compute_auc(y, scores_fc)\n",
    "\n",
    "# Tumour type\n",
    "fpr_tumour_type, tpr_tumour_type, thresholds_tumour_type = ClassificationMetrics.compute_roc_curve(y, scores_tumour_type)\n",
    "auc_tumour_type = ClassificationMetrics.compute_auc(y, scores_tumour_type)\n",
    "\n",
    "# KMeans\n",
    "fpr_kmeans, tpr_kmeans, thresholds_kmeans = ClassificationMetrics.compute_roc_curve(y, scores_kmeans)\n",
    "auc_kmeans = ClassificationMetrics.compute_auc(y, scores_kmeans)"
   ]
  },
  {
   "cell_type": "code",
   "execution_count": null,
   "metadata": {},
   "outputs": [],
   "source": [
    "fig, ax = plt.subplots(figsize=(10,7))\n",
    "x = np.linspace(0,1,100)\n",
    "\n",
    "ax.plot(fpr_fc, tpr_fc, label='Fully connected')\n",
    "ax.plot(fpr_tumour_type, tpr_tumour_type, label='Tumour type')\n",
    "ax.plot(fpr_kmeans, tpr_kmeans, label='KMeans')\n",
    "ax.plot(x,x,linestyle='--',color='black',label='y=x')\n",
    "ax.set_xlabel('FPR')\n",
    "ax.set_ylabel('TPR')\n",
    "ax.set_title('ROC curve')\n",
    "ax.legend()\n",
    "ax.text(0,0.8,f\"AUC Fully connected : {auc_fc}\")\n",
    "ax.text(0,0.7,f\"AUC Tumour type : {auc_tumour_type}\")\n",
    "ax.text(0,0.6,f\"AUC KMeans type : {auc_kmeans}\")"
   ]
  },
  {
   "attachments": {},
   "cell_type": "markdown",
   "metadata": {},
   "source": [
    "### Train loss and validation loss"
   ]
  },
  {
   "cell_type": "code",
   "execution_count": null,
   "metadata": {},
   "outputs": [],
   "source": [
    "epochs = [k for k in range(n_epochs)]\n",
    "\n",
    "fig, ax = plt.subplots(2,2,figsize=(15,7))\n",
    "\n",
    "# FC :\n",
    "ax[0,0].plot(epochs, train_loss_fc,label='train loss')\n",
    "ax[0,0].fill_between(epochs, train_loss_fc-std_train_loss_fc, train_loss_fc+std_train_loss_fc, alpha=0.4)\n",
    "ax[0,0].plot(epochs, val_loss_fc,label='val loss')\n",
    "ax[0,0].fill_between(epochs, val_loss_fc-std_val_loss_fc, val_loss_fc+std_val_loss_fc,alpha=0.4)\n",
    "ax[0,0].set_xlabel('epochs')\n",
    "ax[0,0].set_ylabel('loss')\n",
    "ax[0,0].set_title('Train and validation loss with std - FC')\n",
    "\n",
    "# Tumour type :\n",
    "ax[0,1].plot(epochs, train_loss_tumour_type, label='train loss')\n",
    "ax[0,1].fill_between(epochs, train_loss_tumour_type-std_train_loss_tumour_type, train_loss_tumour_type+std_train_loss_tumour_type, alpha=0.4)\n",
    "ax[0,1].plot(epochs, val_loss_tumour_type,label='val loss')\n",
    "ax[0,1].fill_between(epochs, val_loss_tumour_type-std_val_loss_fc, val_loss_tumour_type+std_val_loss_fc,alpha=0.4)\n",
    "ax[0,1].set_xlabel('epochs')\n",
    "ax[0,1].set_ylabel('loss')\n",
    "ax[0,1].set_title('Train and validation loss with std - Tumour type')\n",
    "\n",
    "# KMeans :\n",
    "ax[1,0].plot(epochs, train_loss_kmeans, label='train loss')\n",
    "ax[1,0].fill_between(epochs, train_loss_kmeans-std_train_loss_kmeans, train_loss_kmeans+std_train_loss_kmeans, alpha=0.4)\n",
    "ax[1,0].plot(epochs, val_loss_kmeans,label='val loss')\n",
    "ax[1,0].fill_between(epochs, val_loss_kmeans-std_val_loss_kmeans, val_loss_kmeans+std_val_loss_kmeans,alpha=0.4)\n",
    "ax[1,0].set_xlabel('epochs')\n",
    "ax[1,0].set_ylabel('loss')\n",
    "ax[1,0].set_title('Train and validation loss with std - KMeans')\n",
    "\n",
    "plt.legend()"
   ]
  },
  {
   "attachments": {},
   "cell_type": "markdown",
   "metadata": {},
   "source": [
    "### Plot weights"
   ]
  },
  {
   "cell_type": "code",
   "execution_count": null,
   "metadata": {},
   "outputs": [],
   "source": []
  },
  {
   "attachments": {},
   "cell_type": "markdown",
   "metadata": {},
   "source": []
  }
 ],
 "metadata": {
  "kernelspec": {
   "display_name": "venv",
   "language": "python",
   "name": "python3"
  },
  "language_info": {
   "codemirror_mode": {
    "name": "ipython",
    "version": 3
   },
   "file_extension": ".py",
   "mimetype": "text/x-python",
   "name": "python",
   "nbconvert_exporter": "python",
   "pygments_lexer": "ipython3",
   "version": "3.10.6"
  },
  "orig_nbformat": 4
 },
 "nbformat": 4,
 "nbformat_minor": 2
}
