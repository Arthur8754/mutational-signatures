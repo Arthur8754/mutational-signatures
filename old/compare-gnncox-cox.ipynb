{
 "cells": [
  {
   "attachments": {},
   "cell_type": "markdown",
   "metadata": {},
   "source": [
    "# Comparison between initial Cox model and the GNN-Cox model\n",
    "For details about initial Cox model and GNN-Cox model, see the associated notebooks (cox-model.ipynb and gnn-cox.ipynb)."
   ]
  },
  {
   "attachments": {},
   "cell_type": "markdown",
   "metadata": {},
   "source": [
    "## Table of contents\n",
    "\n",
    "1. [Reading dataset, drop censored patients, and label patients](#0-reading-dataset-and-drop-censored-patients)\n",
    "2. [Initial Cox model](#1-initial-cox-model)\n",
    "3. [GNN-Cox model](#2-gnn-cox-model)\n",
    "4. [Plot survival curves](#4-plot-survival-curves)"
   ]
  },
  {
   "cell_type": "code",
   "execution_count": 1,
   "metadata": {},
   "outputs": [],
   "source": [
    "import pandas as pd\n",
    "import matplotlib.pyplot as plt\n",
    "import numpy as np\n",
    "import torch\n",
    "from models.BuildGraph import BuildGraph\n",
    "from models.GCNClassifier import GCNClassifier\n",
    "from manage.GCNTrainTestManager import GCNTrainTestManager\n",
    "from models.CoxModel import CoxModel\n",
    "from sklearn.model_selection import KFold \n",
    "from torch_geometric.utils import from_networkx"
   ]
  },
  {
   "attachments": {},
   "cell_type": "markdown",
   "metadata": {},
   "source": [
    "## 1. Reading dataset, drop censored patients, and label patients"
   ]
  },
  {
   "attachments": {},
   "cell_type": "markdown",
   "metadata": {},
   "source": [
    "### Reading dataset"
   ]
  },
  {
   "cell_type": "code",
   "execution_count": 2,
   "metadata": {},
   "outputs": [
    {
     "data": {
      "text/html": [
       "<div>\n",
       "<style scoped>\n",
       "    .dataframe tbody tr th:only-of-type {\n",
       "        vertical-align: middle;\n",
       "    }\n",
       "\n",
       "    .dataframe tbody tr th {\n",
       "        vertical-align: top;\n",
       "    }\n",
       "\n",
       "    .dataframe thead th {\n",
       "        text-align: right;\n",
       "    }\n",
       "</style>\n",
       "<table border=\"1\" class=\"dataframe\">\n",
       "  <thead>\n",
       "    <tr style=\"text-align: right;\">\n",
       "      <th></th>\n",
       "      <th>Anonymous ID</th>\n",
       "      <th>EGA ID</th>\n",
       "      <th>Tumour type</th>\n",
       "      <th>Sex</th>\n",
       "      <th>Line of therapy</th>\n",
       "      <th>Immunotherapy regimen</th>\n",
       "      <th>Cohort</th>\n",
       "      <th>Reason for discontinuation</th>\n",
       "      <th>Best response</th>\n",
       "      <th>Age at advanced disease diagnosis</th>\n",
       "      <th>...</th>\n",
       "      <th>Alive_0</th>\n",
       "      <th>Time to progression (days)</th>\n",
       "      <th>Progression_1</th>\n",
       "      <th>Clinical benefit</th>\n",
       "      <th>CD8+ T cell score</th>\n",
       "      <th>Exome mut per mb</th>\n",
       "      <th>Genome mut per mb</th>\n",
       "      <th>CD274 expression</th>\n",
       "      <th>M1M2 expression</th>\n",
       "      <th>Lymph related</th>\n",
       "    </tr>\n",
       "  </thead>\n",
       "  <tbody>\n",
       "    <tr>\n",
       "      <th>0</th>\n",
       "      <td>14891</td>\n",
       "      <td>EGAD00001001961</td>\n",
       "      <td>LUNG</td>\n",
       "      <td>F</td>\n",
       "      <td>8</td>\n",
       "      <td>Nivolumab</td>\n",
       "      <td>Naive</td>\n",
       "      <td>Progression</td>\n",
       "      <td>Mixed</td>\n",
       "      <td>45</td>\n",
       "      <td>...</td>\n",
       "      <td>1</td>\n",
       "      <td>179</td>\n",
       "      <td>1</td>\n",
       "      <td>NCB</td>\n",
       "      <td>0.351869</td>\n",
       "      <td>11.095310</td>\n",
       "      <td>23.0729</td>\n",
       "      <td>4.1689</td>\n",
       "      <td>55.51575</td>\n",
       "      <td>Non-lymph related</td>\n",
       "    </tr>\n",
       "    <tr>\n",
       "      <th>1</th>\n",
       "      <td>18624</td>\n",
       "      <td>EGAD00001002047</td>\n",
       "      <td>AECA</td>\n",
       "      <td>F</td>\n",
       "      <td>10</td>\n",
       "      <td>Nivolumab</td>\n",
       "      <td>Naive</td>\n",
       "      <td>Progression</td>\n",
       "      <td>Stable disease</td>\n",
       "      <td>47</td>\n",
       "      <td>...</td>\n",
       "      <td>1</td>\n",
       "      <td>148</td>\n",
       "      <td>1</td>\n",
       "      <td>NCB</td>\n",
       "      <td>0.071464</td>\n",
       "      <td>3.876336</td>\n",
       "      <td>5.4552</td>\n",
       "      <td>0.7910</td>\n",
       "      <td>9.32352</td>\n",
       "      <td>Non-lymph related</td>\n",
       "    </tr>\n",
       "    <tr>\n",
       "      <th>2</th>\n",
       "      <td>21392</td>\n",
       "      <td>EGAD00001002544</td>\n",
       "      <td>OV</td>\n",
       "      <td>F</td>\n",
       "      <td>6</td>\n",
       "      <td>Monalizumab</td>\n",
       "      <td>Naive</td>\n",
       "      <td>Progression</td>\n",
       "      <td>Physician assessed SD</td>\n",
       "      <td>57</td>\n",
       "      <td>...</td>\n",
       "      <td>1</td>\n",
       "      <td>79</td>\n",
       "      <td>1</td>\n",
       "      <td>NCB</td>\n",
       "      <td>0.040394</td>\n",
       "      <td>2.415688</td>\n",
       "      <td>4.1274</td>\n",
       "      <td>4.0377</td>\n",
       "      <td>50.12008</td>\n",
       "      <td>Lymph related</td>\n",
       "    </tr>\n",
       "    <tr>\n",
       "      <th>3</th>\n",
       "      <td>21516</td>\n",
       "      <td>EGAD00001002546</td>\n",
       "      <td>SKCM</td>\n",
       "      <td>F</td>\n",
       "      <td>3</td>\n",
       "      <td>Ipilimumab</td>\n",
       "      <td>Naive</td>\n",
       "      <td>Death</td>\n",
       "      <td>Not evaluable</td>\n",
       "      <td>29</td>\n",
       "      <td>...</td>\n",
       "      <td>1</td>\n",
       "      <td>11</td>\n",
       "      <td>0</td>\n",
       "      <td>NCB</td>\n",
       "      <td>0.052774</td>\n",
       "      <td>6.235845</td>\n",
       "      <td>11.4871</td>\n",
       "      <td>0.6006</td>\n",
       "      <td>1.58550</td>\n",
       "      <td>Non-lymph related</td>\n",
       "    </tr>\n",
       "    <tr>\n",
       "      <th>4</th>\n",
       "      <td>22186</td>\n",
       "      <td>EGAD00001001966</td>\n",
       "      <td>LUNG</td>\n",
       "      <td>F</td>\n",
       "      <td>4</td>\n",
       "      <td>Atezolizumab</td>\n",
       "      <td>Naive</td>\n",
       "      <td>Progression</td>\n",
       "      <td>Stable disease</td>\n",
       "      <td>52</td>\n",
       "      <td>...</td>\n",
       "      <td>1</td>\n",
       "      <td>80</td>\n",
       "      <td>1</td>\n",
       "      <td>NCB</td>\n",
       "      <td>0.009323</td>\n",
       "      <td>4.606660</td>\n",
       "      <td>7.1503</td>\n",
       "      <td>1.8234</td>\n",
       "      <td>38.42695</td>\n",
       "      <td>Non-lymph related</td>\n",
       "    </tr>\n",
       "    <tr>\n",
       "      <th>...</th>\n",
       "      <td>...</td>\n",
       "      <td>...</td>\n",
       "      <td>...</td>\n",
       "      <td>...</td>\n",
       "      <td>...</td>\n",
       "      <td>...</td>\n",
       "      <td>...</td>\n",
       "      <td>...</td>\n",
       "      <td>...</td>\n",
       "      <td>...</td>\n",
       "      <td>...</td>\n",
       "      <td>...</td>\n",
       "      <td>...</td>\n",
       "      <td>...</td>\n",
       "      <td>...</td>\n",
       "      <td>...</td>\n",
       "      <td>...</td>\n",
       "      <td>...</td>\n",
       "      <td>...</td>\n",
       "      <td>...</td>\n",
       "      <td>...</td>\n",
       "    </tr>\n",
       "    <tr>\n",
       "      <th>92</th>\n",
       "      <td>39280</td>\n",
       "      <td>EGAD00001004933</td>\n",
       "      <td>LUNG</td>\n",
       "      <td>M</td>\n",
       "      <td>2</td>\n",
       "      <td>Pembrolizumab</td>\n",
       "      <td>Naive</td>\n",
       "      <td>Toxicity</td>\n",
       "      <td>Physician Assessed SD</td>\n",
       "      <td>60</td>\n",
       "      <td>...</td>\n",
       "      <td>1</td>\n",
       "      <td>401</td>\n",
       "      <td>0</td>\n",
       "      <td>DCB</td>\n",
       "      <td>0.695396</td>\n",
       "      <td>84.998501</td>\n",
       "      <td>96.4079</td>\n",
       "      <td>8.4768</td>\n",
       "      <td>86.62561</td>\n",
       "      <td>Non-lymph related</td>\n",
       "    </tr>\n",
       "    <tr>\n",
       "      <th>94</th>\n",
       "      <td>37899</td>\n",
       "      <td>EGAD00001005838</td>\n",
       "      <td>CHOL</td>\n",
       "      <td>F</td>\n",
       "      <td>2</td>\n",
       "      <td>Nivolumab</td>\n",
       "      <td>Naive</td>\n",
       "      <td>Death</td>\n",
       "      <td>Physician assessed PR</td>\n",
       "      <td>38</td>\n",
       "      <td>...</td>\n",
       "      <td>1</td>\n",
       "      <td>96</td>\n",
       "      <td>0</td>\n",
       "      <td>NCB</td>\n",
       "      <td>0.818233</td>\n",
       "      <td>2.247151</td>\n",
       "      <td>2.7416</td>\n",
       "      <td>11.2704</td>\n",
       "      <td>47.97376</td>\n",
       "      <td>Non-lymph related</td>\n",
       "    </tr>\n",
       "    <tr>\n",
       "      <th>95</th>\n",
       "      <td>37775</td>\n",
       "      <td>EGAD00001004934</td>\n",
       "      <td>HNSC</td>\n",
       "      <td>M</td>\n",
       "      <td>1</td>\n",
       "      <td>Avelumab/OX40 agonist PF-04518600</td>\n",
       "      <td>Naive</td>\n",
       "      <td>Progression</td>\n",
       "      <td>Stable disease</td>\n",
       "      <td>69</td>\n",
       "      <td>...</td>\n",
       "      <td>1</td>\n",
       "      <td>69</td>\n",
       "      <td>1</td>\n",
       "      <td>NCB</td>\n",
       "      <td>0.018982</td>\n",
       "      <td>3.848247</td>\n",
       "      <td>5.8036</td>\n",
       "      <td>8.7136</td>\n",
       "      <td>5.13403</td>\n",
       "      <td>Non-lymph related</td>\n",
       "    </tr>\n",
       "    <tr>\n",
       "      <th>96</th>\n",
       "      <td>38313</td>\n",
       "      <td>EGAD00001005844</td>\n",
       "      <td>ACC</td>\n",
       "      <td>F</td>\n",
       "      <td>3</td>\n",
       "      <td>Avelumab/Debio1143 (SMAC mimetic)</td>\n",
       "      <td>Naive</td>\n",
       "      <td>Toxicity</td>\n",
       "      <td>Partial response</td>\n",
       "      <td>34</td>\n",
       "      <td>...</td>\n",
       "      <td>1</td>\n",
       "      <td>51</td>\n",
       "      <td>1</td>\n",
       "      <td>NCB</td>\n",
       "      <td>0.000000</td>\n",
       "      <td>5.617878</td>\n",
       "      <td>7.7940</td>\n",
       "      <td>0.0688</td>\n",
       "      <td>0.51364</td>\n",
       "      <td>Non-lymph related</td>\n",
       "    </tr>\n",
       "    <tr>\n",
       "      <th>97</th>\n",
       "      <td>38207</td>\n",
       "      <td>EGAD00001005850</td>\n",
       "      <td>LUNG</td>\n",
       "      <td>F</td>\n",
       "      <td>1</td>\n",
       "      <td>Pembrolizumab</td>\n",
       "      <td>Naive</td>\n",
       "      <td>Progression</td>\n",
       "      <td>Physician assessed SD</td>\n",
       "      <td>50</td>\n",
       "      <td>...</td>\n",
       "      <td>0</td>\n",
       "      <td>104</td>\n",
       "      <td>1</td>\n",
       "      <td>NCB</td>\n",
       "      <td>0.110416</td>\n",
       "      <td>33.763449</td>\n",
       "      <td>53.2769</td>\n",
       "      <td>23.8818</td>\n",
       "      <td>11.22022</td>\n",
       "      <td>Non-lymph related</td>\n",
       "    </tr>\n",
       "  </tbody>\n",
       "</table>\n",
       "<p>82 rows × 21 columns</p>\n",
       "</div>"
      ],
      "text/plain": [
       "    Anonymous ID           EGA ID Tumour type Sex Line of therapy   \n",
       "0          14891  EGAD00001001961        LUNG   F               8  \\\n",
       "1          18624  EGAD00001002047        AECA   F              10   \n",
       "2          21392  EGAD00001002544          OV   F               6   \n",
       "3          21516  EGAD00001002546        SKCM   F               3   \n",
       "4          22186  EGAD00001001966        LUNG   F               4   \n",
       "..           ...              ...         ...  ..             ...   \n",
       "92         39280  EGAD00001004933        LUNG   M               2   \n",
       "94         37899  EGAD00001005838        CHOL   F               2   \n",
       "95         37775  EGAD00001004934        HNSC   M               1   \n",
       "96         38313  EGAD00001005844         ACC   F               3   \n",
       "97         38207  EGAD00001005850        LUNG   F               1   \n",
       "\n",
       "                Immunotherapy regimen Cohort Reason for discontinuation   \n",
       "0                           Nivolumab  Naive                Progression  \\\n",
       "1                           Nivolumab  Naive                Progression   \n",
       "2                         Monalizumab  Naive                Progression   \n",
       "3                          Ipilimumab  Naive                      Death   \n",
       "4                        Atezolizumab  Naive                Progression   \n",
       "..                                ...    ...                        ...   \n",
       "92                      Pembrolizumab  Naive                   Toxicity   \n",
       "94                          Nivolumab  Naive                      Death   \n",
       "95  Avelumab/OX40 agonist PF-04518600  Naive                Progression   \n",
       "96  Avelumab/Debio1143 (SMAC mimetic)  Naive                   Toxicity   \n",
       "97                      Pembrolizumab  Naive                Progression   \n",
       "\n",
       "            Best response  Age at advanced disease diagnosis  ...  Alive_0   \n",
       "0                   Mixed                                 45  ...        1  \\\n",
       "1          Stable disease                                 47  ...        1   \n",
       "2   Physician assessed SD                                 57  ...        1   \n",
       "3           Not evaluable                                 29  ...        1   \n",
       "4          Stable disease                                 52  ...        1   \n",
       "..                    ...                                ...  ...      ...   \n",
       "92  Physician Assessed SD                                 60  ...        1   \n",
       "94  Physician assessed PR                                 38  ...        1   \n",
       "95         Stable disease                                 69  ...        1   \n",
       "96       Partial response                                 34  ...        1   \n",
       "97  Physician assessed SD                                 50  ...        0   \n",
       "\n",
       "    Time to progression (days)  Progression_1  Clinical benefit   \n",
       "0                          179              1               NCB  \\\n",
       "1                          148              1               NCB   \n",
       "2                           79              1               NCB   \n",
       "3                           11              0               NCB   \n",
       "4                           80              1               NCB   \n",
       "..                         ...            ...               ...   \n",
       "92                         401              0               DCB   \n",
       "94                          96              0               NCB   \n",
       "95                          69              1               NCB   \n",
       "96                          51              1               NCB   \n",
       "97                         104              1               NCB   \n",
       "\n",
       "   CD8+ T cell score  Exome mut per mb  Genome mut per mb  CD274 expression   \n",
       "0           0.351869         11.095310            23.0729            4.1689  \\\n",
       "1           0.071464          3.876336             5.4552            0.7910   \n",
       "2           0.040394          2.415688             4.1274            4.0377   \n",
       "3           0.052774          6.235845            11.4871            0.6006   \n",
       "4           0.009323          4.606660             7.1503            1.8234   \n",
       "..               ...               ...                ...               ...   \n",
       "92          0.695396         84.998501            96.4079            8.4768   \n",
       "94          0.818233          2.247151             2.7416           11.2704   \n",
       "95          0.018982          3.848247             5.8036            8.7136   \n",
       "96          0.000000          5.617878             7.7940            0.0688   \n",
       "97          0.110416         33.763449            53.2769           23.8818   \n",
       "\n",
       "    M1M2 expression      Lymph related  \n",
       "0          55.51575  Non-lymph related  \n",
       "1           9.32352  Non-lymph related  \n",
       "2          50.12008      Lymph related  \n",
       "3           1.58550  Non-lymph related  \n",
       "4          38.42695  Non-lymph related  \n",
       "..              ...                ...  \n",
       "92         86.62561  Non-lymph related  \n",
       "94         47.97376  Non-lymph related  \n",
       "95          5.13403  Non-lymph related  \n",
       "96          0.51364  Non-lymph related  \n",
       "97         11.22022  Non-lymph related  \n",
       "\n",
       "[82 rows x 21 columns]"
      ]
     },
     "execution_count": 2,
     "metadata": {},
     "output_type": "execute_result"
    }
   ],
   "source": [
    "df = pd.read_excel('data/Supplemental-table1.xlsx')\n",
    "\n",
    "# Delete non naive patients\n",
    "df = df.loc[df[\"Cohort\"] == \"Naive\"]\n",
    "\n",
    "df"
   ]
  },
  {
   "attachments": {},
   "cell_type": "markdown",
   "metadata": {},
   "source": [
    "### Delete censored patients"
   ]
  },
  {
   "cell_type": "code",
   "execution_count": 3,
   "metadata": {},
   "outputs": [],
   "source": [
    "def drop_censored_patients(df: pd.DataFrame, status_name: str, time_name: str, t: float)->pd.DataFrame:\n",
    "    \"\"\" \n",
    "    Delete censored patients from the initial dataframe. A censored patient is a patient with status = 0 and time_event < t.\n",
    "\n",
    "    ### Parameters :\n",
    "    - df : the dataframe to update\n",
    "    - status_name : the name of the status event column in the dataframe\n",
    "    - time_name : the name of the time event column in the dataframe\n",
    "    - t : the time when we look at (threshold).\n",
    "\n",
    "    ### Returns :\n",
    "    The dataframe without censored patients.\n",
    "    \"\"\"\n",
    "\n",
    "    # Get index of to drop patients\n",
    "    to_drop = df.index[np.where((df[status_name] == 0) & (df[time_name]<t))[0]]\n",
    "    print(f\"{to_drop.shape[0]} patients censored deleted\")\n",
    "\n",
    "    # Update dataframe\n",
    "    df_non_censored = df.drop(to_drop,axis=0)\n",
    "\n",
    "    return df_non_censored"
   ]
  },
  {
   "cell_type": "code",
   "execution_count": 4,
   "metadata": {},
   "outputs": [
    {
     "name": "stdout",
     "output_type": "stream",
     "text": [
      "6 patients censored deleted\n",
      "1 patients censored deleted\n"
     ]
    }
   ],
   "source": [
    "## TTP (Time To Progression)\n",
    "t_ttp = np.median(df[\"Time to progression (days)\"].to_numpy())\n",
    "df_ttp_non_censored = drop_censored_patients(df, \"Progression_1\", \"Time to progression (days)\", t_ttp)\n",
    "\n",
    "## OS (Overall survival)\n",
    "t_os = np.median(df[\"Overall survival (days)\"].to_numpy())\n",
    "df_os_non_censored = drop_censored_patients(df, \"Alive_0\", \"Overall survival (days)\", t_os)"
   ]
  },
  {
   "attachments": {},
   "cell_type": "markdown",
   "metadata": {},
   "source": [
    "### Label patients for future classification"
   ]
  },
  {
   "cell_type": "code",
   "execution_count": 5,
   "metadata": {},
   "outputs": [],
   "source": [
    "def label_patients(df: pd.DataFrame, time_name: str, t: float)->pd.DataFrame:\n",
    "    \"\"\" \n",
    "    Create new column in dataframe with event label depending on status, time and t values.\n",
    "\n",
    "    ### Parameters :\n",
    "    - df : the dataframe to update\n",
    "    - status_name : the name of the status event column in the dataframe\n",
    "    - time_name : the name of the time event column in the dataframe\n",
    "    - t : the time when we look at (threshold).\n",
    "\n",
    "    ### Returns :\n",
    "    The dataframe with an extra label column.\n",
    "    \"\"\"\n",
    "    \n",
    "    # We test if time < t (1 if yes, 0 otherwise)\n",
    "    df[\"event_occured\"] = np.where(df[time_name]<t, 1, 0)\n",
    "    \n",
    "    return df"
   ]
  },
  {
   "cell_type": "code",
   "execution_count": 6,
   "metadata": {},
   "outputs": [],
   "source": [
    "## TTP :\n",
    "df_ttp_non_censored = label_patients(df_ttp_non_censored, \"Time to progression (days)\",t_ttp)\n",
    "\n",
    "## OS :\n",
    "df_os_non_censored = label_patients(df_os_non_censored, \"Overall survival (days)\",t_os)"
   ]
  },
  {
   "attachments": {},
   "cell_type": "markdown",
   "metadata": {},
   "source": [
    "### Select features and label name"
   ]
  },
  {
   "cell_type": "code",
   "execution_count": 7,
   "metadata": {},
   "outputs": [],
   "source": [
    "features_name = [\"Age at advanced disease diagnosis\",\"CD8+ T cell score\",\"Exome mut per mb\",\"Genome mut per mb\",\"CD274 expression\",\"M1M2 expression\"]\n",
    "label_name = \"event_occured\""
   ]
  },
  {
   "attachments": {},
   "cell_type": "markdown",
   "metadata": {},
   "source": [
    "## 2. Initial Cox model"
   ]
  },
  {
   "attachments": {},
   "cell_type": "markdown",
   "metadata": {},
   "source": [
    "### Preprocessing data"
   ]
  },
  {
   "cell_type": "code",
   "execution_count": 8,
   "metadata": {},
   "outputs": [],
   "source": [
    "## TTP :\n",
    "X_init_ttp = df_ttp_non_censored.loc[:,features_name].to_numpy()\n",
    "y_ttp = np.array(list((df_ttp_non_censored[['Progression_1','Time to progression (days)']].itertuples(index=False, name=None))),dtype=[('Progression_1', '?'), ('Time to progression (days)', '<f8')])\n",
    "\n",
    "## OS :\n",
    "X_init_os = df_os_non_censored.loc[:,features_name].to_numpy()\n",
    "y_os = np.array(list((df_os_non_censored[['Progression_1','Time to progression (days)']].itertuples(index=False, name=None))),dtype=[('Progression_1', '?'), ('Time to progression (days)', '<f8')])"
   ]
  },
  {
   "attachments": {},
   "cell_type": "markdown",
   "metadata": {},
   "source": [
    "### Instanciate initial Cox model"
   ]
  },
  {
   "cell_type": "code",
   "execution_count": 9,
   "metadata": {},
   "outputs": [],
   "source": [
    "## TTP :\n",
    "cox_model_init_ttp = CoxModel()\n",
    "\n",
    "## OS :\n",
    "cox_model_init_os = CoxModel()"
   ]
  },
  {
   "attachments": {},
   "cell_type": "markdown",
   "metadata": {},
   "source": [
    "### Leave one out cross validation to train Cox Model and estimate risk class"
   ]
  },
  {
   "cell_type": "code",
   "execution_count": 10,
   "metadata": {},
   "outputs": [
    {
     "name": "stdout",
     "output_type": "stream",
     "text": [
      "TTP :\n",
      "n_samples high risk : 42\n",
      "n_samples low risk : 34\n",
      "\n",
      " OS :\n",
      "n_samples high risk : 44\n",
      "n_samples low risk : 37\n"
     ]
    }
   ],
   "source": [
    "## TTP : \n",
    "risk_classes_init_ttp, risk_scores_init_ttp = cox_model_init_ttp.leave_one_out_cross_validation(X_init_ttp,y_ttp)\n",
    "print(\"TTP :\")\n",
    "print(f\"n_samples high risk : {np.where(risk_classes_init_ttp==1)[0].shape[0]}\")\n",
    "print(f\"n_samples low risk : {np.where(risk_classes_init_ttp==0)[0].shape[0]}\")\n",
    "\n",
    "## OS : \n",
    "print(\"\\n OS :\")\n",
    "risk_classes_init_os, risk_scores_init_os = cox_model_init_os.leave_one_out_cross_validation(X_init_os,y_os)\n",
    "print(f\"n_samples high risk : {np.where(risk_classes_init_os==1)[0].shape[0]}\")\n",
    "print(f\"n_samples low risk : {np.where(risk_classes_init_os==0)[0].shape[0]}\")"
   ]
  },
  {
   "attachments": {},
   "cell_type": "markdown",
   "metadata": {},
   "source": [
    "### Estimate survival functions"
   ]
  },
  {
   "cell_type": "code",
   "execution_count": 11,
   "metadata": {},
   "outputs": [],
   "source": [
    "## TTP :\n",
    "status_init_ttp, time_init_ttp = df_ttp_non_censored['Progression_1'].to_numpy().astype(bool), df_ttp_non_censored['Time to progression (days)'].to_numpy()\n",
    "# Low risk class\n",
    "status_low_init_ttp, time_low_init_ttp = status_init_ttp[np.where(risk_classes_init_ttp==0)], time_init_ttp[np.where(risk_classes_init_ttp==0)]\n",
    "time_axis_low_init_ttp, prob_axis_low_init_ttp = cox_model_init_ttp.kaplan_meier_estimation(status_low_init_ttp, time_low_init_ttp)\n",
    "# High risk class\n",
    "status_high_init_ttp, time_high_init_ttp = status_init_ttp[np.where(risk_classes_init_ttp==1)], time_init_ttp[np.where(risk_classes_init_ttp==1)]\n",
    "time_axis_high_init_ttp, prob_axis_high_init_ttp = cox_model_init_ttp.kaplan_meier_estimation(status_high_init_ttp, time_high_init_ttp)\n",
    "\n",
    "## OS :\n",
    "status_init_os, time_init_os = df_os_non_censored['Alive_0'].to_numpy().astype(bool), df_os_non_censored['Overall survival (days)'].to_numpy()\n",
    "# Low risk class\n",
    "status_low_init_os, time_low_init_os = status_init_os[np.where(risk_classes_init_os==0)], time_init_os[np.where(risk_classes_init_os==0)]\n",
    "time_axis_low_init_os, prob_axis_low_init_os = cox_model_init_os.kaplan_meier_estimation(status_low_init_os, time_low_init_os)\n",
    "# High risk class\n",
    "status_high_init_os, time_high_init_os = status_init_os[np.where(risk_classes_init_os==1)], time_init_os[np.where(risk_classes_init_os==1)]\n",
    "time_axis_high_init_os, prob_axis_high_init_os = cox_model_init_os.kaplan_meier_estimation(status_high_init_os, time_high_init_os)"
   ]
  },
  {
   "attachments": {},
   "cell_type": "markdown",
   "metadata": {},
   "source": [
    "### Compute C index"
   ]
  },
  {
   "cell_type": "code",
   "execution_count": 12,
   "metadata": {},
   "outputs": [
    {
     "name": "stdout",
     "output_type": "stream",
     "text": [
      "C index (TTP) : 0.58\n",
      "C index (OS) : 0.55\n"
     ]
    }
   ],
   "source": [
    "## TTP : \n",
    "c_index_init_ttp = cox_model_init_ttp.get_c_index(status_init_ttp, time_init_ttp, risk_scores_init_ttp)\n",
    "print(f\"C index (TTP) : {c_index_init_ttp}\")\n",
    "\n",
    "## OS :\n",
    "c_index_init_os = cox_model_init_os.get_c_index(status_init_os, time_init_os, risk_scores_init_os)\n",
    "print(f\"C index (OS) : {c_index_init_os}\")"
   ]
  },
  {
   "attachments": {},
   "cell_type": "markdown",
   "metadata": {},
   "source": [
    "### Compute log rank test p value"
   ]
  },
  {
   "cell_type": "code",
   "execution_count": 13,
   "metadata": {},
   "outputs": [
    {
     "name": "stdout",
     "output_type": "stream",
     "text": [
      "p value (TTP) : 0.02\n",
      "p value (OS) : 0.11\n"
     ]
    }
   ],
   "source": [
    "## TTP :\n",
    "p_value_init_ttp = cox_model_init_ttp.log_rank_test(status_init_ttp.astype(int), time_init_ttp, risk_classes_init_ttp)\n",
    "print(f\"p value (TTP) : {p_value_init_ttp}\")\n",
    "\n",
    "## OS :\n",
    "p_value_init_os = cox_model_init_os.log_rank_test(status_init_os.astype(int), time_init_os, risk_classes_init_os)\n",
    "print(f\"p value (OS) : {p_value_init_os}\")"
   ]
  },
  {
   "attachments": {},
   "cell_type": "markdown",
   "metadata": {},
   "source": [
    "## 3. GNN-Cox model"
   ]
  },
  {
   "attachments": {},
   "cell_type": "markdown",
   "metadata": {},
   "source": [
    "### Leave one out cross validation function"
   ]
  },
  {
   "cell_type": "code",
   "execution_count": 14,
   "metadata": {},
   "outputs": [],
   "source": [
    "def leave_one_out_cross_validation(df: pd.DataFrame, column_name: str, features_name: list[str], label_name: str, n_epoch: int):\n",
    "    \"\"\" \n",
    "    Make the leave one out cross validation to train-test GNN+Cox model pipeline.\n",
    "\n",
    "    ### Parameters :\n",
    "    - df : the dataframe.\n",
    "    - column_name : the name of the column used to choose graph connections.\n",
    "    - features_name : the name of the features for each patient\n",
    "    - label_name : the name of the label for each patient\n",
    "    - n_epoch : the number of epochs for GNN training.\n",
    "\n",
    "    ### Returns :\n",
    "    - the risk scores for each test patient\n",
    "    - the risk classes for each test patient\n",
    "    - the Cox Model trained (for the metrics later)\n",
    "    \"\"\"\n",
    "\n",
    "    # Split dataframe in n_samples groups\n",
    "    n_samples = df.shape[0]\n",
    "    folds = KFold(n_splits=n_samples, shuffle=True).split(df)\n",
    "\n",
    "    # Initialize list of test risk scores and classes for each patient\n",
    "    risk_scores = np.zeros(df.shape[0])\n",
    "    risk_classes = np.zeros(df.shape[0])\n",
    "\n",
    "    for i, (train_index, test_index) in enumerate(folds):\n",
    "\n",
    "        # Select train set and test set\n",
    "        df_train, df_test = df.iloc[train_index,:], df.iloc[test_index,:]\n",
    "\n",
    "        ### 1 : TRAIN ###\n",
    "\n",
    "        ## 1.1 : Build graph ##\n",
    "\n",
    "        # Instanciate graph builder\n",
    "        build_graph_train = BuildGraph(df_train)\n",
    "\n",
    "        # Split per tumour type\n",
    "        labels_train = df_train[\"Tumour type\"].to_numpy()\n",
    "\n",
    "        # Compute adjacency matrix\n",
    "        build_graph_train.compute_adjacency_matrix(labels_train)\n",
    "\n",
    "        # Create graph\n",
    "        build_graph_train.create_graph(features_name, label_name)\n",
    "\n",
    "        # Convert graph to PyTorch geometric format\n",
    "        pyg_graph_train = from_networkx(build_graph_train.G)\n",
    "\n",
    "        ## 1.2 : Train the GNN classifier ##\n",
    "\n",
    "        # Instanciate the GNN classifier\n",
    "        gcn_classifier = GCNClassifier(len(features_name))\n",
    "\n",
    "        # Instanciate the train manager, with loss and optimizer\n",
    "        loss_gnn = torch.nn.BCELoss()\n",
    "        optimizer_gnn = torch.optim.Adam(gcn_classifier.parameters(),lr=0.01)\n",
    "        train_manager = GCNTrainTestManager(gcn_classifier, pyg_graph_train, loss_gnn, optimizer_gnn)\n",
    "\n",
    "        # Training on num_epoch\n",
    "        train_manager.train(n_epoch)\n",
    "\n",
    "        # Extract new embeddings\n",
    "        df_learnt = pd.DataFrame(gcn_classifier.forward_conv(pyg_graph_train.x, pyg_graph_train.edge_index).detach().numpy(), columns=features_name, index=df_train.index)\n",
    "\n",
    "        ## 1.3 : Train the Cox Model ##\n",
    "\n",
    "        # Preprocessing data\n",
    "        X_train = df_learnt.to_numpy()\n",
    "        y_train = np.array(list((df_train[['Progression_1','Time to progression (days)']].itertuples(index=False, name=None))),dtype=[('Progression_1', '?'), ('Time to progression (days)', '<f8')])\n",
    "\n",
    "        # Instanciate Cox Model\n",
    "        cox_model = CoxModel()\n",
    "\n",
    "        # Training \n",
    "        cox_model.train(X_train, y_train)\n",
    "\n",
    "        # Find risk score cutoff between high risk and low risk\n",
    "        risk_scores_train = cox_model.predict_risk_score(X_train)\n",
    "        risk_cutoff = cox_model.find_cutoff(risk_scores_train)\n",
    "\n",
    "        ### 2 : TEST ###\n",
    "\n",
    "        ## 2.1 : Add patient to the graph (rebuild graph) ##\n",
    "\n",
    "        # Instanciate graph builder\n",
    "        build_graph_test = BuildGraph(pd.concat([df_train, df_test]))\n",
    "\n",
    "        # Split per tumour type\n",
    "        labels_test = pd.concat([df_train,df_test])[\"Tumour type\"].to_numpy()\n",
    "\n",
    "        # Compute adjacency matrix\n",
    "        build_graph_test.compute_adjacency_matrix(labels_test)\n",
    "\n",
    "        # Create graph\n",
    "        build_graph_test.create_graph(features_name, label_name)\n",
    "\n",
    "        # Convert graph to PyTorch geometric format\n",
    "        pyg_graph_test = from_networkx(build_graph_test.G)\n",
    "\n",
    "        ## 2.2 : GNN embedding prediction ##\n",
    "\n",
    "        # Predict new embedding of test set\n",
    "        new_test_embedding = pd.DataFrame(gcn_classifier.forward_conv(pyg_graph_test.x, pyg_graph_test.edge_index).detach().numpy()[-1:], columns=features_name, index=df_test.index)\n",
    "\n",
    "        ## 2.3 : Cox Model prediction ##\n",
    "\n",
    "        # Preprocessing data\n",
    "        X_test = new_test_embedding.to_numpy()\n",
    "\n",
    "        # Predict risk score and risk class\n",
    "        risk_score_test = cox_model.predict_risk_score(X_test)\n",
    "        risk_class_test = cox_model.predict_class(risk_score_test, risk_cutoff)\n",
    "\n",
    "        risk_scores[test_index] = risk_score_test\n",
    "        risk_classes[test_index] = risk_class_test\n",
    "\n",
    "    return risk_scores, risk_classes, cox_model"
   ]
  },
  {
   "attachments": {},
   "cell_type": "markdown",
   "metadata": {},
   "source": [
    "### Estimate risk class for each patient"
   ]
  },
  {
   "cell_type": "code",
   "execution_count": 15,
   "metadata": {},
   "outputs": [
    {
     "name": "stdout",
     "output_type": "stream",
     "text": [
      "TTP : \n"
     ]
    },
    {
     "name": "stdout",
     "output_type": "stream",
     "text": [
      "n_samples high risk : 37\n",
      "n_samples low risk : 39\n",
      "OS : \n",
      "n_samples high risk : 39\n",
      "n_samples low risk : 42\n"
     ]
    }
   ],
   "source": [
    "## TTP :\n",
    "print(\"TTP : \")\n",
    "risk_scores_gnn_ttp, risk_classes_gnn_ttp, cox_model_gnn_ttp = leave_one_out_cross_validation(df_ttp_non_censored, \"Tumour type\",features_name, label_name, 100)\n",
    "print(f\"n_samples high risk : {np.where(risk_classes_gnn_ttp==1)[0].shape[0]}\")\n",
    "print(f\"n_samples low risk : {np.where(risk_classes_gnn_ttp==0)[0].shape[0]}\")\n",
    "\n",
    "## OS :\n",
    "print(\"OS : \")\n",
    "risk_scores_gnn_os, risk_classes_gnn_os, cox_model_gnn_os = leave_one_out_cross_validation(df_os_non_censored, \"Tumour type\",features_name,label_name,100)\n",
    "print(f\"n_samples high risk : {np.where(risk_classes_gnn_os==1)[0].shape[0]}\")\n",
    "print(f\"n_samples low risk : {np.where(risk_classes_gnn_os==0)[0].shape[0]}\")"
   ]
  },
  {
   "attachments": {},
   "cell_type": "markdown",
   "metadata": {},
   "source": [
    "### Estimate survival functions"
   ]
  },
  {
   "cell_type": "code",
   "execution_count": 16,
   "metadata": {},
   "outputs": [],
   "source": [
    "## TTP :\n",
    "status_gnn_ttp, time_gnn_ttp = df_ttp_non_censored['Progression_1'].to_numpy().astype(bool), df_ttp_non_censored['Time to progression (days)'].to_numpy()\n",
    "# Low risk class\n",
    "status_low_gnn_ttp, time_low_gnn_ttp = status_gnn_ttp[np.where(risk_classes_gnn_ttp==0)], time_gnn_ttp[np.where(risk_classes_gnn_ttp==0)]\n",
    "time_axis_low_gnn_ttp, prob_axis_low_gnn_ttp = cox_model_gnn_ttp.kaplan_meier_estimation(status_low_gnn_ttp, time_low_gnn_ttp)\n",
    "# High risk class\n",
    "status_high_gnn_ttp, time_high_gnn_ttp = status_gnn_ttp[np.where(risk_classes_gnn_ttp==1)], time_gnn_ttp[np.where(risk_classes_gnn_ttp==1)]\n",
    "time_axis_high_gnn_ttp, prob_axis_high_gnn_ttp = cox_model_gnn_ttp.kaplan_meier_estimation(status_high_gnn_ttp, time_high_gnn_ttp)\n",
    "\n",
    "## OS :\n",
    "status_gnn_os, time_gnn_os = df_os_non_censored['Alive_0'].to_numpy().astype(bool), df_os_non_censored['Overall survival (days)'].to_numpy()\n",
    "# Low risk class\n",
    "status_low_gnn_os, time_low_gnn_os = status_gnn_os[np.where(risk_classes_gnn_os==0)], time_gnn_os[np.where(risk_classes_gnn_os==0)]\n",
    "time_axis_low_gnn_os, prob_axis_low_gnn_os = cox_model_gnn_os.kaplan_meier_estimation(status_low_gnn_os, time_low_gnn_os)\n",
    "# High risk class\n",
    "status_high_gnn_os, time_high_gnn_os = status_gnn_os[np.where(risk_classes_gnn_os==1)], time_gnn_os[np.where(risk_classes_gnn_os==1)]\n",
    "time_axis_high_gnn_os, prob_axis_high_gnn_os = cox_model_gnn_os.kaplan_meier_estimation(status_high_gnn_os, time_high_gnn_os)"
   ]
  },
  {
   "attachments": {},
   "cell_type": "markdown",
   "metadata": {},
   "source": [
    "### Compute C index"
   ]
  },
  {
   "cell_type": "code",
   "execution_count": 17,
   "metadata": {},
   "outputs": [
    {
     "name": "stdout",
     "output_type": "stream",
     "text": [
      "C index (TTP) : 0.54\n",
      "C index (OS) : 0.51\n"
     ]
    }
   ],
   "source": [
    "## TTP : \n",
    "c_index_gnn_ttp = cox_model_gnn_ttp.get_c_index(status_gnn_ttp, time_gnn_ttp, risk_scores_gnn_ttp)\n",
    "print(f\"C index (TTP) : {c_index_gnn_ttp}\")\n",
    "\n",
    "## OS :\n",
    "c_index_gnn_os = cox_model_gnn_os.get_c_index(status_gnn_os, time_gnn_os, risk_scores_gnn_os)\n",
    "print(f\"C index (OS) : {c_index_gnn_os}\")"
   ]
  },
  {
   "attachments": {},
   "cell_type": "markdown",
   "metadata": {},
   "source": [
    "### Compute log rank test p value"
   ]
  },
  {
   "cell_type": "code",
   "execution_count": 18,
   "metadata": {},
   "outputs": [
    {
     "name": "stdout",
     "output_type": "stream",
     "text": [
      "p value (TTP) : 0.06\n",
      "p value (OS) : 0.46\n"
     ]
    }
   ],
   "source": [
    "## TTP :\n",
    "p_value_gnn_ttp = cox_model_gnn_ttp.log_rank_test(status_gnn_ttp.astype(int), time_gnn_ttp, risk_classes_gnn_ttp)\n",
    "print(f\"p value (TTP) : {p_value_gnn_ttp}\")\n",
    "\n",
    "## OS :\n",
    "p_value_gnn_os = cox_model_gnn_os.log_rank_test(status_gnn_os.astype(int), time_gnn_os, risk_classes_gnn_os)\n",
    "print(f\"p value (OS) : {p_value_gnn_os}\")"
   ]
  },
  {
   "attachments": {},
   "cell_type": "markdown",
   "metadata": {},
   "source": [
    "## 4. Plot survival curves"
   ]
  },
  {
   "cell_type": "code",
   "execution_count": 19,
   "metadata": {},
   "outputs": [
    {
     "data": {
      "image/png": "[encoded data removed]",
      "text/plain": [
       "<Figure size 1500x1200 with 4 Axes>"
      ]
     },
     "metadata": {},
     "output_type": "display_data"
    }
   ],
   "source": [
    "fig, ax = plt.subplots(2,2,figsize=(15,12))\n",
    "ax[0,0].step(time_axis_low_init_ttp, prob_axis_low_init_ttp, where='post',color='green',label='low risk')\n",
    "ax[0,0].step(time_axis_high_init_ttp, prob_axis_high_init_ttp, where='post',color='red',label='high risk')\n",
    "ax[0,0].set_xlabel('Time (days)')\n",
    "ax[0,0].set_ylabel('No progression probability')\n",
    "ax[0,0].set_title('No progression probability along time (TTP) initial Cox model')\n",
    "ax[0,0].text(0,0.1,f'C-index : {c_index_init_ttp}')\n",
    "ax[0,0].text(0,0.05,f'p value : {p_value_init_ttp}')\n",
    "\n",
    "ax[0,1].step(time_axis_low_init_os, prob_axis_low_init_os, where='post',color='green',label='low risk')\n",
    "ax[0,1].step(time_axis_high_init_os, prob_axis_high_init_os, where='post',color='red',label='high risk')\n",
    "ax[0,1].set_xlabel('Time (days)')\n",
    "ax[0,1].set_ylabel('Survival probability')\n",
    "ax[0,1].set_title('Survival probability along time (OS) initial Cox model')\n",
    "ax[0,1].text(0,0.1,f'C-index : {c_index_init_os}')\n",
    "ax[0,1].text(0,0.05,f'p value : {p_value_init_os}')\n",
    "\n",
    "ax[1,0].step(time_axis_low_gnn_ttp, prob_axis_low_gnn_ttp, where='post',color='green',label='low risk')\n",
    "ax[1,0].step(time_axis_high_gnn_ttp, prob_axis_high_gnn_ttp, where='post',color='red',label='high risk')\n",
    "ax[1,0].set_xlabel('Time (days)')\n",
    "ax[1,0].set_ylabel('No progression probability')\n",
    "ax[1,0].set_title('No progression probability along time (TTP) GNN Cox model')\n",
    "ax[1,0].text(0,0.1,f'C-index : {c_index_gnn_ttp}')\n",
    "ax[1,0].text(0,0.05,f'p value : {p_value_gnn_ttp}')\n",
    "\n",
    "ax[1,1].step(time_axis_low_gnn_os, prob_axis_low_gnn_os, where='post',color='green',label='low risk')\n",
    "ax[1,1].step(time_axis_high_gnn_os, prob_axis_high_gnn_os, where='post',color='red',label='high risk')\n",
    "ax[1,1].set_xlabel('Time (days)')\n",
    "ax[1,1].set_ylabel('Survival probability')\n",
    "ax[1,1].set_title('Survival probability along time (OS) GNN Cox model')\n",
    "ax[1,1].text(0,0.1,f'C-index : {c_index_gnn_os}')\n",
    "ax[1,1].text(0,0.05,f'p value : {p_value_gnn_os}')\n",
    "\n",
    "plt.legend()\n",
    "plt.savefig('compare-init-gnn-cox-model-survival-curves.png')"
   ]
  },
  {
   "attachments": {},
   "cell_type": "markdown",
   "metadata": {},
   "source": []
  }
 ],
 "metadata": {
  "kernelspec": {
   "display_name": "venv",
   "language": "python",
   "name": "python3"
  },
  "language_info": {
   "codemirror_mode": {
    "name": "ipython",
    "version": 3
   },
   "file_extension": ".py",
   "mimetype": "text/x-python",
   "name": "python",
   "nbconvert_exporter": "python",
   "pygments_lexer": "ipython3",
   "version": "3.10.6"
  },
  "orig_nbformat": 4
 },
 "nbformat": 4,
 "nbformat_minor": 2
}
