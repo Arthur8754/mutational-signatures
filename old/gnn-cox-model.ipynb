{
 "cells": [
  {
   "attachments": {},
   "cell_type": "markdown",
   "metadata": {},
   "source": [
    "# GCN for Cox Model\n",
    "In this notebook, we build a graph, and execute a Cox Model with a GCN."
   ]
  },
  {
   "cell_type": "code",
   "execution_count": 1,
   "metadata": {},
   "outputs": [],
   "source": [
    "import pandas as pd\n",
    "import numpy as np\n",
    "import torch\n",
    "from models.GCNCoxModel import GCNCoxModel\n",
    "from models.BuildGraph import BuildGraph\n",
    "from manage.GCNCoxTrainTestManager import GCNCoxTrainTestManager"
   ]
  },
  {
   "attachments": {},
   "cell_type": "markdown",
   "metadata": {},
   "source": [
    "## 1. Build the graph\n",
    "Here, we split the patients by tumour type."
   ]
  },
  {
   "attachments": {},
   "cell_type": "markdown",
   "metadata": {},
   "source": [
    "### Reading the dataset"
   ]
  },
  {
   "cell_type": "code",
   "execution_count": 2,
   "metadata": {},
   "outputs": [
    {
     "data": {
      "text/html": [
       "<div>\n",
       "<style scoped>\n",
       "    .dataframe tbody tr th:only-of-type {\n",
       "        vertical-align: middle;\n",
       "    }\n",
       "\n",
       "    .dataframe tbody tr th {\n",
       "        vertical-align: top;\n",
       "    }\n",
       "\n",
       "    .dataframe thead th {\n",
       "        text-align: right;\n",
       "    }\n",
       "</style>\n",
       "<table border=\"1\" class=\"dataframe\">\n",
       "  <thead>\n",
       "    <tr style=\"text-align: right;\">\n",
       "      <th></th>\n",
       "      <th>Anonymous ID</th>\n",
       "      <th>EGA ID</th>\n",
       "      <th>Tumour type</th>\n",
       "      <th>Sex</th>\n",
       "      <th>Line of therapy</th>\n",
       "      <th>Immunotherapy regimen</th>\n",
       "      <th>Cohort</th>\n",
       "      <th>Reason for discontinuation</th>\n",
       "      <th>Best response</th>\n",
       "      <th>Age at advanced disease diagnosis</th>\n",
       "      <th>...</th>\n",
       "      <th>Alive_0</th>\n",
       "      <th>Time to progression (days)</th>\n",
       "      <th>Progression_1</th>\n",
       "      <th>Clinical benefit</th>\n",
       "      <th>CD8+ T cell score</th>\n",
       "      <th>Exome mut per mb</th>\n",
       "      <th>Genome mut per mb</th>\n",
       "      <th>CD274 expression</th>\n",
       "      <th>M1M2 expression</th>\n",
       "      <th>Lymph related</th>\n",
       "    </tr>\n",
       "  </thead>\n",
       "  <tbody>\n",
       "    <tr>\n",
       "      <th>0</th>\n",
       "      <td>14891</td>\n",
       "      <td>EGAD00001001961</td>\n",
       "      <td>LUNG</td>\n",
       "      <td>F</td>\n",
       "      <td>8</td>\n",
       "      <td>Nivolumab</td>\n",
       "      <td>Naive</td>\n",
       "      <td>Progression</td>\n",
       "      <td>Mixed</td>\n",
       "      <td>45</td>\n",
       "      <td>...</td>\n",
       "      <td>1</td>\n",
       "      <td>179</td>\n",
       "      <td>1</td>\n",
       "      <td>0</td>\n",
       "      <td>0.351869</td>\n",
       "      <td>11.095310</td>\n",
       "      <td>23.0729</td>\n",
       "      <td>4.1689</td>\n",
       "      <td>55.51575</td>\n",
       "      <td>Non-lymph related</td>\n",
       "    </tr>\n",
       "    <tr>\n",
       "      <th>1</th>\n",
       "      <td>18624</td>\n",
       "      <td>EGAD00001002047</td>\n",
       "      <td>AECA</td>\n",
       "      <td>F</td>\n",
       "      <td>10</td>\n",
       "      <td>Nivolumab</td>\n",
       "      <td>Naive</td>\n",
       "      <td>Progression</td>\n",
       "      <td>Stable disease</td>\n",
       "      <td>47</td>\n",
       "      <td>...</td>\n",
       "      <td>1</td>\n",
       "      <td>148</td>\n",
       "      <td>1</td>\n",
       "      <td>0</td>\n",
       "      <td>0.071464</td>\n",
       "      <td>3.876336</td>\n",
       "      <td>5.4552</td>\n",
       "      <td>0.7910</td>\n",
       "      <td>9.32352</td>\n",
       "      <td>Non-lymph related</td>\n",
       "    </tr>\n",
       "    <tr>\n",
       "      <th>2</th>\n",
       "      <td>21392</td>\n",
       "      <td>EGAD00001002544</td>\n",
       "      <td>OV</td>\n",
       "      <td>F</td>\n",
       "      <td>6</td>\n",
       "      <td>Monalizumab</td>\n",
       "      <td>Naive</td>\n",
       "      <td>Progression</td>\n",
       "      <td>Physician assessed SD</td>\n",
       "      <td>57</td>\n",
       "      <td>...</td>\n",
       "      <td>1</td>\n",
       "      <td>79</td>\n",
       "      <td>1</td>\n",
       "      <td>0</td>\n",
       "      <td>0.040394</td>\n",
       "      <td>2.415688</td>\n",
       "      <td>4.1274</td>\n",
       "      <td>4.0377</td>\n",
       "      <td>50.12008</td>\n",
       "      <td>Lymph related</td>\n",
       "    </tr>\n",
       "    <tr>\n",
       "      <th>3</th>\n",
       "      <td>21516</td>\n",
       "      <td>EGAD00001002546</td>\n",
       "      <td>SKCM</td>\n",
       "      <td>F</td>\n",
       "      <td>3</td>\n",
       "      <td>Ipilimumab</td>\n",
       "      <td>Naive</td>\n",
       "      <td>Death</td>\n",
       "      <td>Not evaluable</td>\n",
       "      <td>29</td>\n",
       "      <td>...</td>\n",
       "      <td>1</td>\n",
       "      <td>11</td>\n",
       "      <td>0</td>\n",
       "      <td>0</td>\n",
       "      <td>0.052774</td>\n",
       "      <td>6.235845</td>\n",
       "      <td>11.4871</td>\n",
       "      <td>0.6006</td>\n",
       "      <td>1.58550</td>\n",
       "      <td>Non-lymph related</td>\n",
       "    </tr>\n",
       "    <tr>\n",
       "      <th>4</th>\n",
       "      <td>22186</td>\n",
       "      <td>EGAD00001001966</td>\n",
       "      <td>LUNG</td>\n",
       "      <td>F</td>\n",
       "      <td>4</td>\n",
       "      <td>Atezolizumab</td>\n",
       "      <td>Naive</td>\n",
       "      <td>Progression</td>\n",
       "      <td>Stable disease</td>\n",
       "      <td>52</td>\n",
       "      <td>...</td>\n",
       "      <td>1</td>\n",
       "      <td>80</td>\n",
       "      <td>1</td>\n",
       "      <td>0</td>\n",
       "      <td>0.009323</td>\n",
       "      <td>4.606660</td>\n",
       "      <td>7.1503</td>\n",
       "      <td>1.8234</td>\n",
       "      <td>38.42695</td>\n",
       "      <td>Non-lymph related</td>\n",
       "    </tr>\n",
       "    <tr>\n",
       "      <th>...</th>\n",
       "      <td>...</td>\n",
       "      <td>...</td>\n",
       "      <td>...</td>\n",
       "      <td>...</td>\n",
       "      <td>...</td>\n",
       "      <td>...</td>\n",
       "      <td>...</td>\n",
       "      <td>...</td>\n",
       "      <td>...</td>\n",
       "      <td>...</td>\n",
       "      <td>...</td>\n",
       "      <td>...</td>\n",
       "      <td>...</td>\n",
       "      <td>...</td>\n",
       "      <td>...</td>\n",
       "      <td>...</td>\n",
       "      <td>...</td>\n",
       "      <td>...</td>\n",
       "      <td>...</td>\n",
       "      <td>...</td>\n",
       "      <td>...</td>\n",
       "    </tr>\n",
       "    <tr>\n",
       "      <th>92</th>\n",
       "      <td>39280</td>\n",
       "      <td>EGAD00001004933</td>\n",
       "      <td>LUNG</td>\n",
       "      <td>M</td>\n",
       "      <td>2</td>\n",
       "      <td>Pembrolizumab</td>\n",
       "      <td>Naive</td>\n",
       "      <td>Toxicity</td>\n",
       "      <td>Physician Assessed SD</td>\n",
       "      <td>60</td>\n",
       "      <td>...</td>\n",
       "      <td>1</td>\n",
       "      <td>401</td>\n",
       "      <td>0</td>\n",
       "      <td>1</td>\n",
       "      <td>0.695396</td>\n",
       "      <td>84.998501</td>\n",
       "      <td>96.4079</td>\n",
       "      <td>8.4768</td>\n",
       "      <td>86.62561</td>\n",
       "      <td>Non-lymph related</td>\n",
       "    </tr>\n",
       "    <tr>\n",
       "      <th>94</th>\n",
       "      <td>37899</td>\n",
       "      <td>EGAD00001005838</td>\n",
       "      <td>CHOL</td>\n",
       "      <td>F</td>\n",
       "      <td>2</td>\n",
       "      <td>Nivolumab</td>\n",
       "      <td>Naive</td>\n",
       "      <td>Death</td>\n",
       "      <td>Physician assessed PR</td>\n",
       "      <td>38</td>\n",
       "      <td>...</td>\n",
       "      <td>1</td>\n",
       "      <td>96</td>\n",
       "      <td>0</td>\n",
       "      <td>0</td>\n",
       "      <td>0.818233</td>\n",
       "      <td>2.247151</td>\n",
       "      <td>2.7416</td>\n",
       "      <td>11.2704</td>\n",
       "      <td>47.97376</td>\n",
       "      <td>Non-lymph related</td>\n",
       "    </tr>\n",
       "    <tr>\n",
       "      <th>95</th>\n",
       "      <td>37775</td>\n",
       "      <td>EGAD00001004934</td>\n",
       "      <td>HNSC</td>\n",
       "      <td>M</td>\n",
       "      <td>1</td>\n",
       "      <td>Avelumab/OX40 agonist PF-04518600</td>\n",
       "      <td>Naive</td>\n",
       "      <td>Progression</td>\n",
       "      <td>Stable disease</td>\n",
       "      <td>69</td>\n",
       "      <td>...</td>\n",
       "      <td>1</td>\n",
       "      <td>69</td>\n",
       "      <td>1</td>\n",
       "      <td>0</td>\n",
       "      <td>0.018982</td>\n",
       "      <td>3.848247</td>\n",
       "      <td>5.8036</td>\n",
       "      <td>8.7136</td>\n",
       "      <td>5.13403</td>\n",
       "      <td>Non-lymph related</td>\n",
       "    </tr>\n",
       "    <tr>\n",
       "      <th>96</th>\n",
       "      <td>38313</td>\n",
       "      <td>EGAD00001005844</td>\n",
       "      <td>ACC</td>\n",
       "      <td>F</td>\n",
       "      <td>3</td>\n",
       "      <td>Avelumab/Debio1143 (SMAC mimetic)</td>\n",
       "      <td>Naive</td>\n",
       "      <td>Toxicity</td>\n",
       "      <td>Partial response</td>\n",
       "      <td>34</td>\n",
       "      <td>...</td>\n",
       "      <td>1</td>\n",
       "      <td>51</td>\n",
       "      <td>1</td>\n",
       "      <td>0</td>\n",
       "      <td>0.000000</td>\n",
       "      <td>5.617878</td>\n",
       "      <td>7.7940</td>\n",
       "      <td>0.0688</td>\n",
       "      <td>0.51364</td>\n",
       "      <td>Non-lymph related</td>\n",
       "    </tr>\n",
       "    <tr>\n",
       "      <th>97</th>\n",
       "      <td>38207</td>\n",
       "      <td>EGAD00001005850</td>\n",
       "      <td>LUNG</td>\n",
       "      <td>F</td>\n",
       "      <td>1</td>\n",
       "      <td>Pembrolizumab</td>\n",
       "      <td>Naive</td>\n",
       "      <td>Progression</td>\n",
       "      <td>Physician assessed SD</td>\n",
       "      <td>50</td>\n",
       "      <td>...</td>\n",
       "      <td>0</td>\n",
       "      <td>104</td>\n",
       "      <td>1</td>\n",
       "      <td>0</td>\n",
       "      <td>0.110416</td>\n",
       "      <td>33.763449</td>\n",
       "      <td>53.2769</td>\n",
       "      <td>23.8818</td>\n",
       "      <td>11.22022</td>\n",
       "      <td>Non-lymph related</td>\n",
       "    </tr>\n",
       "  </tbody>\n",
       "</table>\n",
       "<p>82 rows × 21 columns</p>\n",
       "</div>"
      ],
      "text/plain": [
       "    Anonymous ID           EGA ID Tumour type Sex Line of therapy   \n",
       "0          14891  EGAD00001001961        LUNG   F               8  \\\n",
       "1          18624  EGAD00001002047        AECA   F              10   \n",
       "2          21392  EGAD00001002544          OV   F               6   \n",
       "3          21516  EGAD00001002546        SKCM   F               3   \n",
       "4          22186  EGAD00001001966        LUNG   F               4   \n",
       "..           ...              ...         ...  ..             ...   \n",
       "92         39280  EGAD00001004933        LUNG   M               2   \n",
       "94         37899  EGAD00001005838        CHOL   F               2   \n",
       "95         37775  EGAD00001004934        HNSC   M               1   \n",
       "96         38313  EGAD00001005844         ACC   F               3   \n",
       "97         38207  EGAD00001005850        LUNG   F               1   \n",
       "\n",
       "                Immunotherapy regimen Cohort Reason for discontinuation   \n",
       "0                           Nivolumab  Naive                Progression  \\\n",
       "1                           Nivolumab  Naive                Progression   \n",
       "2                         Monalizumab  Naive                Progression   \n",
       "3                          Ipilimumab  Naive                      Death   \n",
       "4                        Atezolizumab  Naive                Progression   \n",
       "..                                ...    ...                        ...   \n",
       "92                      Pembrolizumab  Naive                   Toxicity   \n",
       "94                          Nivolumab  Naive                      Death   \n",
       "95  Avelumab/OX40 agonist PF-04518600  Naive                Progression   \n",
       "96  Avelumab/Debio1143 (SMAC mimetic)  Naive                   Toxicity   \n",
       "97                      Pembrolizumab  Naive                Progression   \n",
       "\n",
       "            Best response  Age at advanced disease diagnosis  ...  Alive_0   \n",
       "0                   Mixed                                 45  ...        1  \\\n",
       "1          Stable disease                                 47  ...        1   \n",
       "2   Physician assessed SD                                 57  ...        1   \n",
       "3           Not evaluable                                 29  ...        1   \n",
       "4          Stable disease                                 52  ...        1   \n",
       "..                    ...                                ...  ...      ...   \n",
       "92  Physician Assessed SD                                 60  ...        1   \n",
       "94  Physician assessed PR                                 38  ...        1   \n",
       "95         Stable disease                                 69  ...        1   \n",
       "96       Partial response                                 34  ...        1   \n",
       "97  Physician assessed SD                                 50  ...        0   \n",
       "\n",
       "    Time to progression (days)  Progression_1  Clinical benefit   \n",
       "0                          179              1                 0  \\\n",
       "1                          148              1                 0   \n",
       "2                           79              1                 0   \n",
       "3                           11              0                 0   \n",
       "4                           80              1                 0   \n",
       "..                         ...            ...               ...   \n",
       "92                         401              0                 1   \n",
       "94                          96              0                 0   \n",
       "95                          69              1                 0   \n",
       "96                          51              1                 0   \n",
       "97                         104              1                 0   \n",
       "\n",
       "    CD8+ T cell score  Exome mut per mb  Genome mut per mb  CD274 expression   \n",
       "0            0.351869         11.095310            23.0729            4.1689  \\\n",
       "1            0.071464          3.876336             5.4552            0.7910   \n",
       "2            0.040394          2.415688             4.1274            4.0377   \n",
       "3            0.052774          6.235845            11.4871            0.6006   \n",
       "4            0.009323          4.606660             7.1503            1.8234   \n",
       "..                ...               ...                ...               ...   \n",
       "92           0.695396         84.998501            96.4079            8.4768   \n",
       "94           0.818233          2.247151             2.7416           11.2704   \n",
       "95           0.018982          3.848247             5.8036            8.7136   \n",
       "96           0.000000          5.617878             7.7940            0.0688   \n",
       "97           0.110416         33.763449            53.2769           23.8818   \n",
       "\n",
       "    M1M2 expression      Lymph related  \n",
       "0          55.51575  Non-lymph related  \n",
       "1           9.32352  Non-lymph related  \n",
       "2          50.12008      Lymph related  \n",
       "3           1.58550  Non-lymph related  \n",
       "4          38.42695  Non-lymph related  \n",
       "..              ...                ...  \n",
       "92         86.62561  Non-lymph related  \n",
       "94         47.97376  Non-lymph related  \n",
       "95          5.13403  Non-lymph related  \n",
       "96          0.51364  Non-lymph related  \n",
       "97         11.22022  Non-lymph related  \n",
       "\n",
       "[82 rows x 21 columns]"
      ]
     },
     "execution_count": 2,
     "metadata": {},
     "output_type": "execute_result"
    }
   ],
   "source": [
    "df = pd.read_excel('data/Supplemental-table1.xlsx')\n",
    "df = df.loc[df[\"Cohort\"] == \"Naive\"]\n",
    "df[\"Clinical benefit\"] = np.where(df[\"Clinical benefit\"]==\"DCB\",1,0)\n",
    "df"
   ]
  },
  {
   "cell_type": "code",
   "execution_count": 3,
   "metadata": {},
   "outputs": [],
   "source": [
    "buildgraph = BuildGraph(df)"
   ]
  },
  {
   "attachments": {},
   "cell_type": "markdown",
   "metadata": {},
   "source": [
    "### Compute the adjacency matrix"
   ]
  },
  {
   "cell_type": "code",
   "execution_count": 4,
   "metadata": {},
   "outputs": [
    {
     "data": {
      "text/plain": [
       "array([[0., 0., 0., ..., 0., 0., 1.],\n",
       "       [0., 0., 0., ..., 0., 0., 0.],\n",
       "       [0., 0., 0., ..., 0., 0., 0.],\n",
       "       ...,\n",
       "       [0., 0., 0., ..., 0., 0., 0.],\n",
       "       [0., 0., 0., ..., 0., 0., 0.],\n",
       "       [1., 0., 0., ..., 0., 0., 0.]])"
      ]
     },
     "metadata": {},
     "output_type": "display_data"
    }
   ],
   "source": [
    "buildgraph.compute_adjacency_matrix(\"Tumour type\")\n",
    "display(buildgraph.A)"
   ]
  },
  {
   "attachments": {},
   "cell_type": "markdown",
   "metadata": {},
   "source": [
    "### Build the graph"
   ]
  },
  {
   "cell_type": "code",
   "execution_count": 5,
   "metadata": {},
   "outputs": [],
   "source": [
    "features_label = [\"CD8+ T cell score\",\"Exome mut per mb\"]\n",
    "y_label = \"Clinical benefit\"\n",
    "\n",
    "buildgraph.create_graph(features_label, y_label)"
   ]
  },
  {
   "attachments": {},
   "cell_type": "markdown",
   "metadata": {},
   "source": [
    "### Show the graph"
   ]
  },
  {
   "cell_type": "code",
   "execution_count": 6,
   "metadata": {},
   "outputs": [
    {
     "data": {
      "image/png": "[encoded data removed]",
      "text/plain": [
       "<Figure size 1000x700 with 1 Axes>"
      ]
     },
     "metadata": {},
     "output_type": "display_data"
    }
   ],
   "source": [
    "buildgraph.show_graph(\"Graph with split per tumour type\",\"tumour-type.png\")"
   ]
  },
  {
   "attachments": {},
   "cell_type": "markdown",
   "metadata": {},
   "source": [
    "## 2. Building the GCN Cox Model"
   ]
  },
  {
   "attachments": {},
   "cell_type": "markdown",
   "metadata": {},
   "source": [
    "### Formatting data"
   ]
  },
  {
   "cell_type": "code",
   "execution_count": 7,
   "metadata": {},
   "outputs": [],
   "source": [
    "from torch_geometric.utils.convert import from_networkx\n",
    "\n",
    "pyg_graph = from_networkx(buildgraph.G)\n",
    "status = torch.from_numpy(df[\"Alive_0\"].to_numpy()).float().unsqueeze(1)\n",
    "time = torch.from_numpy(df[\"Overall survival (days)\"].to_numpy()).float().unsqueeze(1)"
   ]
  },
  {
   "attachments": {},
   "cell_type": "markdown",
   "metadata": {},
   "source": [
    "### Instanciate the model"
   ]
  },
  {
   "cell_type": "code",
   "execution_count": 8,
   "metadata": {},
   "outputs": [
    {
     "data": {
      "text/plain": [
       "GCNCoxModel(\n",
       "  (conv): GCNConv(2, 2)\n",
       "  (regression): Linear(in_features=2, out_features=1, bias=True)\n",
       ")"
      ]
     },
     "execution_count": 8,
     "metadata": {},
     "output_type": "execute_result"
    }
   ],
   "source": [
    "model = GCNCoxModel(num_features=len(features_label))\n",
    "model"
   ]
  },
  {
   "attachments": {},
   "cell_type": "markdown",
   "metadata": {},
   "source": [
    "## 3. Training the GCN"
   ]
  },
  {
   "cell_type": "code",
   "execution_count": 9,
   "metadata": {},
   "outputs": [],
   "source": [
    "trainer = GCNCoxTrainTestManager(model, pyg_graph, status, time)"
   ]
  },
  {
   "cell_type": "code",
   "execution_count": 10,
   "metadata": {},
   "outputs": [
    {
     "name": "stdout",
     "output_type": "stream",
     "text": [
      "Epoch 1 of 100\n",
      "tensor([3.0843], grad_fn=<AddBackward0>)\n",
      "tensor([3.0843], grad_fn=<AddBackward0>)\n",
      "tensor([3.0843], grad_fn=<AddBackward0>)\n",
      "tensor([3.0843], grad_fn=<AddBackward0>)\n",
      "tensor([3.0843], grad_fn=<AddBackward0>)\n",
      "tensor([3.0843], grad_fn=<AddBackward0>)\n",
      "tensor([3.0843], grad_fn=<AddBackward0>)\n",
      "tensor([3.0843], grad_fn=<AddBackward0>)\n",
      "tensor([3.0843], grad_fn=<AddBackward0>)\n",
      "tensor([3.0843], grad_fn=<AddBackward0>)\n",
      "Epoch 11 of 100\n",
      "tensor([3.0843], grad_fn=<AddBackward0>)\n",
      "tensor([3.0843], grad_fn=<AddBackward0>)\n",
      "tensor([3.0843], grad_fn=<AddBackward0>)\n",
      "tensor([3.0843], grad_fn=<AddBackward0>)\n",
      "tensor([3.0843], grad_fn=<AddBackward0>)\n",
      "tensor([3.0843], grad_fn=<AddBackward0>)\n",
      "tensor([3.0843], grad_fn=<AddBackward0>)\n",
      "tensor([3.0843], grad_fn=<AddBackward0>)\n",
      "tensor([3.0843], grad_fn=<AddBackward0>)\n",
      "tensor([3.0843], grad_fn=<AddBackward0>)\n",
      "Epoch 21 of 100\n",
      "tensor([3.0843], grad_fn=<AddBackward0>)\n",
      "tensor([3.0843], grad_fn=<AddBackward0>)\n",
      "tensor([3.0843], grad_fn=<AddBackward0>)\n",
      "tensor([3.0843], grad_fn=<AddBackward0>)\n",
      "tensor([3.0843], grad_fn=<AddBackward0>)\n",
      "tensor([3.0843], grad_fn=<AddBackward0>)\n",
      "tensor([3.0843], grad_fn=<AddBackward0>)\n",
      "tensor([3.0843], grad_fn=<AddBackward0>)\n",
      "tensor([3.0843], grad_fn=<AddBackward0>)\n",
      "tensor([3.0843], grad_fn=<AddBackward0>)\n",
      "Epoch 31 of 100\n",
      "tensor([3.0843], grad_fn=<AddBackward0>)\n",
      "tensor([3.0843], grad_fn=<AddBackward0>)\n",
      "tensor([3.0843], grad_fn=<AddBackward0>)\n",
      "tensor([3.0843], grad_fn=<AddBackward0>)\n",
      "tensor([3.0843], grad_fn=<AddBackward0>)\n",
      "tensor([3.0843], grad_fn=<AddBackward0>)\n",
      "tensor([3.0843], grad_fn=<AddBackward0>)\n",
      "tensor([3.0843], grad_fn=<AddBackward0>)\n",
      "tensor([3.0843], grad_fn=<AddBackward0>)\n",
      "tensor([3.0843], grad_fn=<AddBackward0>)\n",
      "Epoch 41 of 100\n",
      "tensor([3.0843], grad_fn=<AddBackward0>)\n",
      "tensor([3.0843], grad_fn=<AddBackward0>)\n",
      "tensor([3.0843], grad_fn=<AddBackward0>)\n",
      "tensor([3.0843], grad_fn=<AddBackward0>)\n",
      "tensor([3.0843], grad_fn=<AddBackward0>)\n",
      "tensor([3.0843], grad_fn=<AddBackward0>)\n",
      "tensor([3.0843], grad_fn=<AddBackward0>)\n",
      "tensor([3.0843], grad_fn=<AddBackward0>)\n",
      "tensor([3.0843], grad_fn=<AddBackward0>)\n",
      "tensor([3.0843], grad_fn=<AddBackward0>)\n",
      "Epoch 51 of 100\n",
      "tensor([3.0843], grad_fn=<AddBackward0>)\n",
      "tensor([3.0843], grad_fn=<AddBackward0>)\n",
      "tensor([3.0843], grad_fn=<AddBackward0>)\n",
      "tensor([3.0843], grad_fn=<AddBackward0>)\n",
      "tensor([3.0843], grad_fn=<AddBackward0>)\n",
      "tensor([3.0843], grad_fn=<AddBackward0>)\n",
      "tensor([3.0843], grad_fn=<AddBackward0>)\n",
      "tensor([3.0843], grad_fn=<AddBackward0>)\n",
      "tensor([3.0843], grad_fn=<AddBackward0>)\n",
      "tensor([3.0843], grad_fn=<AddBackward0>)\n",
      "Epoch 61 of 100\n",
      "tensor([3.0843], grad_fn=<AddBackward0>)\n",
      "tensor([3.0843], grad_fn=<AddBackward0>)\n",
      "tensor([3.0843], grad_fn=<AddBackward0>)\n",
      "tensor([3.0843], grad_fn=<AddBackward0>)\n",
      "tensor([3.0843], grad_fn=<AddBackward0>)\n",
      "tensor([3.0843], grad_fn=<AddBackward0>)\n",
      "tensor([3.0843], grad_fn=<AddBackward0>)\n",
      "tensor([3.0843], grad_fn=<AddBackward0>)\n",
      "tensor([3.0843], grad_fn=<AddBackward0>)\n",
      "tensor([3.0843], grad_fn=<AddBackward0>)\n",
      "Epoch 71 of 100\n",
      "tensor([3.0843], grad_fn=<AddBackward0>)\n",
      "tensor([3.0843], grad_fn=<AddBackward0>)\n",
      "tensor([3.0843], grad_fn=<AddBackward0>)\n",
      "tensor([3.0843], grad_fn=<AddBackward0>)\n",
      "tensor([3.0843], grad_fn=<AddBackward0>)\n",
      "tensor([3.0843], grad_fn=<AddBackward0>)\n",
      "tensor([3.0843], grad_fn=<AddBackward0>)\n",
      "tensor([3.0843], grad_fn=<AddBackward0>)\n",
      "tensor([3.0843], grad_fn=<AddBackward0>)\n",
      "tensor([3.0843], grad_fn=<AddBackward0>)\n",
      "Epoch 81 of 100\n",
      "tensor([3.0843], grad_fn=<AddBackward0>)\n",
      "tensor([3.0843], grad_fn=<AddBackward0>)\n",
      "tensor([3.0843], grad_fn=<AddBackward0>)\n",
      "tensor([3.0843], grad_fn=<AddBackward0>)\n",
      "tensor([3.0843], grad_fn=<AddBackward0>)\n",
      "tensor([3.0843], grad_fn=<AddBackward0>)\n",
      "tensor([3.0843], grad_fn=<AddBackward0>)\n",
      "tensor([3.0843], grad_fn=<AddBackward0>)\n",
      "tensor([3.0843], grad_fn=<AddBackward0>)\n",
      "tensor([3.0843], grad_fn=<AddBackward0>)\n",
      "Epoch 91 of 100\n",
      "tensor([3.0843], grad_fn=<AddBackward0>)\n",
      "tensor([3.0843], grad_fn=<AddBackward0>)\n",
      "tensor([3.0843], grad_fn=<AddBackward0>)\n",
      "tensor([3.0843], grad_fn=<AddBackward0>)\n",
      "tensor([3.0843], grad_fn=<AddBackward0>)\n",
      "tensor([3.0843], grad_fn=<AddBackward0>)\n",
      "tensor([3.0843], grad_fn=<AddBackward0>)\n",
      "tensor([3.0843], grad_fn=<AddBackward0>)\n",
      "tensor([3.0843], grad_fn=<AddBackward0>)\n",
      "tensor([3.0843], grad_fn=<AddBackward0>)\n",
      "End of training.\n"
     ]
    }
   ],
   "source": [
    "trainer.train(100)"
   ]
  },
  {
   "cell_type": "code",
   "execution_count": 11,
   "metadata": {},
   "outputs": [
    {
     "data": {
      "image/png": "[encoded data removed]",
      "text/plain": [
       "<Figure size 1000x700 with 1 Axes>"
      ]
     },
     "metadata": {},
     "output_type": "display_data"
    }
   ],
   "source": [
    "# Plot loss function\n",
    "trainer.plot_loss()"
   ]
  },
  {
   "attachments": {},
   "cell_type": "markdown",
   "metadata": {},
   "source": [
    "## 4. Estimating survival function and plot survival curves"
   ]
  },
  {
   "cell_type": "code",
   "execution_count": 12,
   "metadata": {},
   "outputs": [
    {
     "data": {
      "text/plain": [
       "tensor([[-0.1599],\n",
       "        [-0.1599],\n",
       "        [-0.1599],\n",
       "        [-0.1599],\n",
       "        [-0.1599],\n",
       "        [-0.1599],\n",
       "        [-0.1599],\n",
       "        [-0.1599],\n",
       "        [-0.1599],\n",
       "        [-0.1599],\n",
       "        [-0.1599],\n",
       "        [-0.1599],\n",
       "        [-0.1599],\n",
       "        [-0.1599],\n",
       "        [-0.1599],\n",
       "        [-0.1599],\n",
       "        [-0.1599],\n",
       "        [-0.1599],\n",
       "        [-0.1599],\n",
       "        [-0.1599],\n",
       "        [-0.1599],\n",
       "        [-0.1599],\n",
       "        [-0.1599],\n",
       "        [-0.1599],\n",
       "        [-0.1599],\n",
       "        [-0.1599],\n",
       "        [-0.1599],\n",
       "        [-0.1599],\n",
       "        [-0.1599],\n",
       "        [-0.1599],\n",
       "        [-0.1599],\n",
       "        [-0.1599],\n",
       "        [-0.1599],\n",
       "        [-0.1599],\n",
       "        [-0.1599],\n",
       "        [-0.1599],\n",
       "        [-0.1599],\n",
       "        [-0.1599],\n",
       "        [-0.1599],\n",
       "        [-0.1599],\n",
       "        [-0.1599],\n",
       "        [-0.1599],\n",
       "        [-0.1599],\n",
       "        [-0.1599],\n",
       "        [-0.1599],\n",
       "        [-0.1599],\n",
       "        [-0.1599],\n",
       "        [-0.1599],\n",
       "        [-0.1599],\n",
       "        [-0.1599],\n",
       "        [-0.1599],\n",
       "        [-0.1599],\n",
       "        [-0.1599],\n",
       "        [-0.1599],\n",
       "        [-0.1599],\n",
       "        [-0.1599],\n",
       "        [-0.1599],\n",
       "        [-0.1599],\n",
       "        [-0.1599],\n",
       "        [-0.1599],\n",
       "        [-0.1599],\n",
       "        [-0.1599],\n",
       "        [-0.1599],\n",
       "        [-0.1599],\n",
       "        [-0.1599],\n",
       "        [-0.1599],\n",
       "        [-0.1599],\n",
       "        [-0.1599],\n",
       "        [-0.1599],\n",
       "        [-0.1599],\n",
       "        [-0.1599],\n",
       "        [-0.1599],\n",
       "        [-0.1599],\n",
       "        [-0.1599],\n",
       "        [-0.1599],\n",
       "        [-0.1599],\n",
       "        [-0.1599],\n",
       "        [-0.1599],\n",
       "        [-0.1599],\n",
       "        [-0.1599],\n",
       "        [-0.1599],\n",
       "        [-0.1599]], grad_fn=<AddmmBackward0>)"
      ]
     },
     "execution_count": 12,
     "metadata": {},
     "output_type": "execute_result"
    }
   ],
   "source": [
    "g = model(pyg_graph.x, pyg_graph.edge_index)\n",
    "g"
   ]
  },
  {
   "cell_type": "code",
   "execution_count": 13,
   "metadata": {},
   "outputs": [],
   "source": [
    "indices = torch.argsort(time.flatten())\n",
    "\n",
    "g_sort, status_sort, time_sort = g[indices], status[indices], time[indices]"
   ]
  },
  {
   "attachments": {},
   "cell_type": "markdown",
   "metadata": {},
   "source": [
    "### Cumulative hazard : H(t|x)"
   ]
  },
  {
   "cell_type": "code",
   "execution_count": 14,
   "metadata": {},
   "outputs": [],
   "source": [
    "def H0(g, T, status, time):\n",
    "    \"\"\" \n",
    "    Breslow estimator.\n",
    "    \"\"\"\n",
    "    h0 = torch.zeros((g.shape[0],T.shape[0]))\n",
    "    for k in range(T.shape[0]):\n",
    "        to_sum_k = torch.where(time<=T[k])\n",
    "        g_k, status_k, time_k = g[to_sum_k], status[to_sum_k], time[to_sum_k]\n",
    "        for i in range(g_k.shape[0]):\n",
    "            status_ki, T_ki = status_k[i], time_k[i]\n",
    "            to_sum = torch.where((status_ki == 1) & (time_k>=T_ki))[0]\n",
    "            h0[i][k] += status_ki/torch.sum(torch.exp(g_k[to_sum]))\n",
    "    return h0\n",
    "\n",
    "def H(g, T, status, time):\n",
    "    \"\"\" \n",
    "    Cumulative HR\n",
    "    \"\"\"\n",
    "    h0 = H0(g, T, status, time)\n",
    "    return h0 * torch.exp(g)"
   ]
  },
  {
   "cell_type": "code",
   "execution_count": 15,
   "metadata": {},
   "outputs": [
    {
     "data": {
      "text/plain": [
       "tensor([[1.0000, 0.5000, 0.3333,  ..., 0.0125, 0.0123, 0.0122],\n",
       "        [0.0000, 1.0000, 0.5000,  ..., 0.0127, 0.0125, 0.0123],\n",
       "        [0.0000, 0.0000, 1.0000,  ..., 0.0128, 0.0127, 0.0125],\n",
       "        ...,\n",
       "        [0.0000, 0.0000, 0.0000,  ..., 1.0000, 0.5000, 0.3333],\n",
       "        [0.0000, 0.0000, 0.0000,  ..., 0.0000, 1.0000, 0.5000],\n",
       "        [0.0000, 0.0000, 0.0000,  ..., 0.0000, 0.0000,    nan]],\n",
       "       grad_fn=<MulBackward0>)"
      ]
     },
     "execution_count": 15,
     "metadata": {},
     "output_type": "execute_result"
    }
   ],
   "source": [
    "h = H(g_sort, time_sort, status_sort, time_sort)\n",
    "h"
   ]
  },
  {
   "attachments": {},
   "cell_type": "markdown",
   "metadata": {},
   "source": [
    "### Survival function : S(t|x)"
   ]
  },
  {
   "cell_type": "code",
   "execution_count": 16,
   "metadata": {},
   "outputs": [],
   "source": [
    "def S(H):\n",
    "    return torch.exp(-H)"
   ]
  },
  {
   "cell_type": "code",
   "execution_count": 17,
   "metadata": {},
   "outputs": [
    {
     "data": {
      "text/plain": [
       "tensor([0.9923, 0.9875, 0.9840, 0.9813, 0.9791, 0.9773, 0.9756, 0.9742, 0.9729,\n",
       "        0.9718, 0.9707, 0.9697, 0.9688, 0.9680, 0.9694, 0.9694, 0.9671, 0.9659,\n",
       "        0.9650, 0.9642, 0.9636, 0.9630, 0.9624, 0.9619, 0.9614, 0.9609, 0.9604,\n",
       "        0.9600, 0.9596,    nan,    nan,    nan,    nan,    nan,    nan,    nan,\n",
       "           nan,    nan,    nan,    nan,    nan,    nan,    nan,    nan,    nan,\n",
       "           nan,    nan,    nan,    nan,    nan,    nan,    nan,    nan,    nan,\n",
       "           nan,    nan,    nan,    nan,    nan,    nan,    nan,    nan,    nan,\n",
       "           nan,    nan,    nan,    nan,    nan,    nan,    nan,    nan,    nan,\n",
       "           nan,    nan,    nan,    nan,    nan,    nan,    nan,    nan,    nan,\n",
       "           nan], grad_fn=<MeanBackward1>)"
      ]
     },
     "execution_count": 17,
     "metadata": {},
     "output_type": "execute_result"
    }
   ],
   "source": [
    "s = S(h)\n",
    "s_mean = s.mean(0)\n",
    "s_mean"
   ]
  },
  {
   "attachments": {},
   "cell_type": "markdown",
   "metadata": {},
   "source": [
    "### Plot survival curve"
   ]
  },
  {
   "cell_type": "code",
   "execution_count": 18,
   "metadata": {},
   "outputs": [
    {
     "data": {
      "image/png": "[encoded data removed]",
      "text/plain": [
       "<Figure size 1500x700 with 1 Axes>"
      ]
     },
     "metadata": {},
     "output_type": "display_data"
    }
   ],
   "source": [
    "import matplotlib.pyplot as plt\n",
    "\n",
    "fig, ax = plt.subplots(figsize=(15,7))\n",
    "for i in range(s.shape[0]):\n",
    "    s_patient = s[i].detach().numpy()\n",
    "    ax.step(time_sort, s_patient, where='post')\n",
    "# ax.step(time_sort, s_mean.detach().numpy(), where='post')\n",
    "ax.set_xlabel('Time (days)')\n",
    "ax.set_ylabel('Survival probability')\n",
    "ax.set_title('Survival probability along time (OS)')\n",
    "\n",
    "plt.savefig('test-curve.png')"
   ]
  },
  {
   "cell_type": "code",
   "execution_count": null,
   "metadata": {},
   "outputs": [],
   "source": []
  }
 ],
 "metadata": {
  "kernelspec": {
   "display_name": "venv",
   "language": "python",
   "name": "python3"
  },
  "language_info": {
   "codemirror_mode": {
    "name": "ipython",
    "version": 3
   },
   "file_extension": ".py",
   "mimetype": "text/x-python",
   "name": "python",
   "nbconvert_exporter": "python",
   "pygments_lexer": "ipython3",
   "version": "3.10.6"
  },
  "orig_nbformat": 4
 },
 "nbformat": 4,
 "nbformat_minor": 2
}
