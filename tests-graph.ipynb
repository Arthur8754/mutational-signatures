{
 "cells": [
  {
   "attachments": {},
   "cell_type": "markdown",
   "metadata": {},
   "source": [
    "# Building graph tests\n",
    "In this notebook, we compare some building graphs methods. We compare 4 methods :\n",
    "- Gather per tumour type\n",
    "- Gather per KMeans clusters\n",
    "- Gather per Spectral clustering clusters\n",
    "- Gather per Hierarchical clustering clusters\n",
    "\n",
    "The tests we use in this notebook are the following :\n",
    "- Print the connected patients features, to see if the connections are biologically realistic.\n",
    "- Print the number of distinct sub graphs : indeed, if there are too many sub graphs, the patients will not really be associated with others.\n",
    "- Print the number of neighbours per node : indeed, beyond 4 neighbors, there is no really interest, we don't gain more information.\n",
    "\n",
    "Instead of creating the networkx graph, we use the adjacency matrix to determine the measures."
   ]
  },
  {
   "attachments": {},
   "cell_type": "markdown",
   "metadata": {},
   "source": [
    "# Table of contents\n",
    "\n",
    "0. [Reading and preprocessing](#0-reading-preprocessing)\n",
    "1. [Building graphs](#building-graphs)\n",
    "    1. [Gather per tumour type](#1-gather-per-tumour-type)\n",
    "    2. [Gather per KMeans clusters](#2-gather-per-kmeans-clusters)\n",
    "    3. [Gather per Spectral clustering clusters](#3-gather-per-spectral-clustering-clusters)\n",
    "    4. [Gather per Hierarchical clustering clusters](#4-gather-per-hierarchical-clustering-clusters)\n",
    "2. [Print connected patients](#print-connected-patients)\n",
    "3. [Print number of distinct sub graphs](#print-n-subgraphs)\n",
    "4. [Print number of neighbours per node](#print-n-neighbours)"
   ]
  },
  {
   "cell_type": "code",
   "execution_count": 1,
   "metadata": {},
   "outputs": [],
   "source": [
    "import pandas as pd\n",
    "from models.BuildGraph import BuildGraph\n",
    "import numpy as np\n",
    "import networkx as nx\n",
    "from sklearn.cluster import KMeans, SpectralClustering, AgglomerativeClustering\n",
    "import matplotlib.pyplot as plt"
   ]
  },
  {
   "attachments": {},
   "cell_type": "markdown",
   "metadata": {},
   "source": [
    "## 0. Reading and preprocessing\n",
    "We read the data from the following article : , and we do drop the non naive patients, and the censored patients (ie the patients with status = 0 but time_event < time_we_look_at)"
   ]
  },
  {
   "cell_type": "code",
   "execution_count": 2,
   "metadata": {},
   "outputs": [
    {
     "data": {
      "text/html": [
       "<div>\n",
       "<style scoped>\n",
       "    .dataframe tbody tr th:only-of-type {\n",
       "        vertical-align: middle;\n",
       "    }\n",
       "\n",
       "    .dataframe tbody tr th {\n",
       "        vertical-align: top;\n",
       "    }\n",
       "\n",
       "    .dataframe thead th {\n",
       "        text-align: right;\n",
       "    }\n",
       "</style>\n",
       "<table border=\"1\" class=\"dataframe\">\n",
       "  <thead>\n",
       "    <tr style=\"text-align: right;\">\n",
       "      <th></th>\n",
       "      <th>Anonymous ID</th>\n",
       "      <th>EGA ID</th>\n",
       "      <th>Tumour type</th>\n",
       "      <th>Sex</th>\n",
       "      <th>Line of therapy</th>\n",
       "      <th>Immunotherapy regimen</th>\n",
       "      <th>Cohort</th>\n",
       "      <th>Reason for discontinuation</th>\n",
       "      <th>Best response</th>\n",
       "      <th>Age at advanced disease diagnosis</th>\n",
       "      <th>...</th>\n",
       "      <th>Alive_0</th>\n",
       "      <th>Time to progression (days)</th>\n",
       "      <th>Progression_1</th>\n",
       "      <th>Clinical benefit</th>\n",
       "      <th>CD8+ T cell score</th>\n",
       "      <th>Exome mut per mb</th>\n",
       "      <th>Genome mut per mb</th>\n",
       "      <th>CD274 expression</th>\n",
       "      <th>M1M2 expression</th>\n",
       "      <th>Lymph related</th>\n",
       "    </tr>\n",
       "  </thead>\n",
       "  <tbody>\n",
       "    <tr>\n",
       "      <th>0</th>\n",
       "      <td>14891</td>\n",
       "      <td>EGAD00001001961</td>\n",
       "      <td>LUNG</td>\n",
       "      <td>F</td>\n",
       "      <td>8</td>\n",
       "      <td>Nivolumab</td>\n",
       "      <td>Naive</td>\n",
       "      <td>Progression</td>\n",
       "      <td>Mixed</td>\n",
       "      <td>45</td>\n",
       "      <td>...</td>\n",
       "      <td>1</td>\n",
       "      <td>179</td>\n",
       "      <td>1</td>\n",
       "      <td>NCB</td>\n",
       "      <td>0.351869</td>\n",
       "      <td>11.095310</td>\n",
       "      <td>23.0729</td>\n",
       "      <td>4.1689</td>\n",
       "      <td>55.51575</td>\n",
       "      <td>Non-lymph related</td>\n",
       "    </tr>\n",
       "    <tr>\n",
       "      <th>1</th>\n",
       "      <td>18624</td>\n",
       "      <td>EGAD00001002047</td>\n",
       "      <td>AECA</td>\n",
       "      <td>F</td>\n",
       "      <td>10</td>\n",
       "      <td>Nivolumab</td>\n",
       "      <td>Naive</td>\n",
       "      <td>Progression</td>\n",
       "      <td>Stable disease</td>\n",
       "      <td>47</td>\n",
       "      <td>...</td>\n",
       "      <td>1</td>\n",
       "      <td>148</td>\n",
       "      <td>1</td>\n",
       "      <td>NCB</td>\n",
       "      <td>0.071464</td>\n",
       "      <td>3.876336</td>\n",
       "      <td>5.4552</td>\n",
       "      <td>0.7910</td>\n",
       "      <td>9.32352</td>\n",
       "      <td>Non-lymph related</td>\n",
       "    </tr>\n",
       "    <tr>\n",
       "      <th>2</th>\n",
       "      <td>21392</td>\n",
       "      <td>EGAD00001002544</td>\n",
       "      <td>OV</td>\n",
       "      <td>F</td>\n",
       "      <td>6</td>\n",
       "      <td>Monalizumab</td>\n",
       "      <td>Naive</td>\n",
       "      <td>Progression</td>\n",
       "      <td>Physician assessed SD</td>\n",
       "      <td>57</td>\n",
       "      <td>...</td>\n",
       "      <td>1</td>\n",
       "      <td>79</td>\n",
       "      <td>1</td>\n",
       "      <td>NCB</td>\n",
       "      <td>0.040394</td>\n",
       "      <td>2.415688</td>\n",
       "      <td>4.1274</td>\n",
       "      <td>4.0377</td>\n",
       "      <td>50.12008</td>\n",
       "      <td>Lymph related</td>\n",
       "    </tr>\n",
       "    <tr>\n",
       "      <th>3</th>\n",
       "      <td>21516</td>\n",
       "      <td>EGAD00001002546</td>\n",
       "      <td>SKCM</td>\n",
       "      <td>F</td>\n",
       "      <td>3</td>\n",
       "      <td>Ipilimumab</td>\n",
       "      <td>Naive</td>\n",
       "      <td>Death</td>\n",
       "      <td>Not evaluable</td>\n",
       "      <td>29</td>\n",
       "      <td>...</td>\n",
       "      <td>1</td>\n",
       "      <td>11</td>\n",
       "      <td>0</td>\n",
       "      <td>NCB</td>\n",
       "      <td>0.052774</td>\n",
       "      <td>6.235845</td>\n",
       "      <td>11.4871</td>\n",
       "      <td>0.6006</td>\n",
       "      <td>1.58550</td>\n",
       "      <td>Non-lymph related</td>\n",
       "    </tr>\n",
       "    <tr>\n",
       "      <th>4</th>\n",
       "      <td>22186</td>\n",
       "      <td>EGAD00001001966</td>\n",
       "      <td>LUNG</td>\n",
       "      <td>F</td>\n",
       "      <td>4</td>\n",
       "      <td>Atezolizumab</td>\n",
       "      <td>Naive</td>\n",
       "      <td>Progression</td>\n",
       "      <td>Stable disease</td>\n",
       "      <td>52</td>\n",
       "      <td>...</td>\n",
       "      <td>1</td>\n",
       "      <td>80</td>\n",
       "      <td>1</td>\n",
       "      <td>NCB</td>\n",
       "      <td>0.009323</td>\n",
       "      <td>4.606660</td>\n",
       "      <td>7.1503</td>\n",
       "      <td>1.8234</td>\n",
       "      <td>38.42695</td>\n",
       "      <td>Non-lymph related</td>\n",
       "    </tr>\n",
       "    <tr>\n",
       "      <th>...</th>\n",
       "      <td>...</td>\n",
       "      <td>...</td>\n",
       "      <td>...</td>\n",
       "      <td>...</td>\n",
       "      <td>...</td>\n",
       "      <td>...</td>\n",
       "      <td>...</td>\n",
       "      <td>...</td>\n",
       "      <td>...</td>\n",
       "      <td>...</td>\n",
       "      <td>...</td>\n",
       "      <td>...</td>\n",
       "      <td>...</td>\n",
       "      <td>...</td>\n",
       "      <td>...</td>\n",
       "      <td>...</td>\n",
       "      <td>...</td>\n",
       "      <td>...</td>\n",
       "      <td>...</td>\n",
       "      <td>...</td>\n",
       "      <td>...</td>\n",
       "    </tr>\n",
       "    <tr>\n",
       "      <th>92</th>\n",
       "      <td>39280</td>\n",
       "      <td>EGAD00001004933</td>\n",
       "      <td>LUNG</td>\n",
       "      <td>M</td>\n",
       "      <td>2</td>\n",
       "      <td>Pembrolizumab</td>\n",
       "      <td>Naive</td>\n",
       "      <td>Toxicity</td>\n",
       "      <td>Physician Assessed SD</td>\n",
       "      <td>60</td>\n",
       "      <td>...</td>\n",
       "      <td>1</td>\n",
       "      <td>401</td>\n",
       "      <td>0</td>\n",
       "      <td>DCB</td>\n",
       "      <td>0.695396</td>\n",
       "      <td>84.998501</td>\n",
       "      <td>96.4079</td>\n",
       "      <td>8.4768</td>\n",
       "      <td>86.62561</td>\n",
       "      <td>Non-lymph related</td>\n",
       "    </tr>\n",
       "    <tr>\n",
       "      <th>94</th>\n",
       "      <td>37899</td>\n",
       "      <td>EGAD00001005838</td>\n",
       "      <td>CHOL</td>\n",
       "      <td>F</td>\n",
       "      <td>2</td>\n",
       "      <td>Nivolumab</td>\n",
       "      <td>Naive</td>\n",
       "      <td>Death</td>\n",
       "      <td>Physician assessed PR</td>\n",
       "      <td>38</td>\n",
       "      <td>...</td>\n",
       "      <td>1</td>\n",
       "      <td>96</td>\n",
       "      <td>0</td>\n",
       "      <td>NCB</td>\n",
       "      <td>0.818233</td>\n",
       "      <td>2.247151</td>\n",
       "      <td>2.7416</td>\n",
       "      <td>11.2704</td>\n",
       "      <td>47.97376</td>\n",
       "      <td>Non-lymph related</td>\n",
       "    </tr>\n",
       "    <tr>\n",
       "      <th>95</th>\n",
       "      <td>37775</td>\n",
       "      <td>EGAD00001004934</td>\n",
       "      <td>HNSC</td>\n",
       "      <td>M</td>\n",
       "      <td>1</td>\n",
       "      <td>Avelumab/OX40 agonist PF-04518600</td>\n",
       "      <td>Naive</td>\n",
       "      <td>Progression</td>\n",
       "      <td>Stable disease</td>\n",
       "      <td>69</td>\n",
       "      <td>...</td>\n",
       "      <td>1</td>\n",
       "      <td>69</td>\n",
       "      <td>1</td>\n",
       "      <td>NCB</td>\n",
       "      <td>0.018982</td>\n",
       "      <td>3.848247</td>\n",
       "      <td>5.8036</td>\n",
       "      <td>8.7136</td>\n",
       "      <td>5.13403</td>\n",
       "      <td>Non-lymph related</td>\n",
       "    </tr>\n",
       "    <tr>\n",
       "      <th>96</th>\n",
       "      <td>38313</td>\n",
       "      <td>EGAD00001005844</td>\n",
       "      <td>ACC</td>\n",
       "      <td>F</td>\n",
       "      <td>3</td>\n",
       "      <td>Avelumab/Debio1143 (SMAC mimetic)</td>\n",
       "      <td>Naive</td>\n",
       "      <td>Toxicity</td>\n",
       "      <td>Partial response</td>\n",
       "      <td>34</td>\n",
       "      <td>...</td>\n",
       "      <td>1</td>\n",
       "      <td>51</td>\n",
       "      <td>1</td>\n",
       "      <td>NCB</td>\n",
       "      <td>0.000000</td>\n",
       "      <td>5.617878</td>\n",
       "      <td>7.7940</td>\n",
       "      <td>0.0688</td>\n",
       "      <td>0.51364</td>\n",
       "      <td>Non-lymph related</td>\n",
       "    </tr>\n",
       "    <tr>\n",
       "      <th>97</th>\n",
       "      <td>38207</td>\n",
       "      <td>EGAD00001005850</td>\n",
       "      <td>LUNG</td>\n",
       "      <td>F</td>\n",
       "      <td>1</td>\n",
       "      <td>Pembrolizumab</td>\n",
       "      <td>Naive</td>\n",
       "      <td>Progression</td>\n",
       "      <td>Physician assessed SD</td>\n",
       "      <td>50</td>\n",
       "      <td>...</td>\n",
       "      <td>0</td>\n",
       "      <td>104</td>\n",
       "      <td>1</td>\n",
       "      <td>NCB</td>\n",
       "      <td>0.110416</td>\n",
       "      <td>33.763449</td>\n",
       "      <td>53.2769</td>\n",
       "      <td>23.8818</td>\n",
       "      <td>11.22022</td>\n",
       "      <td>Non-lymph related</td>\n",
       "    </tr>\n",
       "  </tbody>\n",
       "</table>\n",
       "<p>82 rows × 21 columns</p>\n",
       "</div>"
      ],
      "text/plain": [
       "    Anonymous ID           EGA ID Tumour type Sex Line of therapy   \n",
       "0          14891  EGAD00001001961        LUNG   F               8  \\\n",
       "1          18624  EGAD00001002047        AECA   F              10   \n",
       "2          21392  EGAD00001002544          OV   F               6   \n",
       "3          21516  EGAD00001002546        SKCM   F               3   \n",
       "4          22186  EGAD00001001966        LUNG   F               4   \n",
       "..           ...              ...         ...  ..             ...   \n",
       "92         39280  EGAD00001004933        LUNG   M               2   \n",
       "94         37899  EGAD00001005838        CHOL   F               2   \n",
       "95         37775  EGAD00001004934        HNSC   M               1   \n",
       "96         38313  EGAD00001005844         ACC   F               3   \n",
       "97         38207  EGAD00001005850        LUNG   F               1   \n",
       "\n",
       "                Immunotherapy regimen Cohort Reason for discontinuation   \n",
       "0                           Nivolumab  Naive                Progression  \\\n",
       "1                           Nivolumab  Naive                Progression   \n",
       "2                         Monalizumab  Naive                Progression   \n",
       "3                          Ipilimumab  Naive                      Death   \n",
       "4                        Atezolizumab  Naive                Progression   \n",
       "..                                ...    ...                        ...   \n",
       "92                      Pembrolizumab  Naive                   Toxicity   \n",
       "94                          Nivolumab  Naive                      Death   \n",
       "95  Avelumab/OX40 agonist PF-04518600  Naive                Progression   \n",
       "96  Avelumab/Debio1143 (SMAC mimetic)  Naive                   Toxicity   \n",
       "97                      Pembrolizumab  Naive                Progression   \n",
       "\n",
       "            Best response  Age at advanced disease diagnosis  ...  Alive_0   \n",
       "0                   Mixed                                 45  ...        1  \\\n",
       "1          Stable disease                                 47  ...        1   \n",
       "2   Physician assessed SD                                 57  ...        1   \n",
       "3           Not evaluable                                 29  ...        1   \n",
       "4          Stable disease                                 52  ...        1   \n",
       "..                    ...                                ...  ...      ...   \n",
       "92  Physician Assessed SD                                 60  ...        1   \n",
       "94  Physician assessed PR                                 38  ...        1   \n",
       "95         Stable disease                                 69  ...        1   \n",
       "96       Partial response                                 34  ...        1   \n",
       "97  Physician assessed SD                                 50  ...        0   \n",
       "\n",
       "    Time to progression (days)  Progression_1  Clinical benefit   \n",
       "0                          179              1               NCB  \\\n",
       "1                          148              1               NCB   \n",
       "2                           79              1               NCB   \n",
       "3                           11              0               NCB   \n",
       "4                           80              1               NCB   \n",
       "..                         ...            ...               ...   \n",
       "92                         401              0               DCB   \n",
       "94                          96              0               NCB   \n",
       "95                          69              1               NCB   \n",
       "96                          51              1               NCB   \n",
       "97                         104              1               NCB   \n",
       "\n",
       "   CD8+ T cell score  Exome mut per mb  Genome mut per mb  CD274 expression   \n",
       "0           0.351869         11.095310            23.0729            4.1689  \\\n",
       "1           0.071464          3.876336             5.4552            0.7910   \n",
       "2           0.040394          2.415688             4.1274            4.0377   \n",
       "3           0.052774          6.235845            11.4871            0.6006   \n",
       "4           0.009323          4.606660             7.1503            1.8234   \n",
       "..               ...               ...                ...               ...   \n",
       "92          0.695396         84.998501            96.4079            8.4768   \n",
       "94          0.818233          2.247151             2.7416           11.2704   \n",
       "95          0.018982          3.848247             5.8036            8.7136   \n",
       "96          0.000000          5.617878             7.7940            0.0688   \n",
       "97          0.110416         33.763449            53.2769           23.8818   \n",
       "\n",
       "    M1M2 expression      Lymph related  \n",
       "0          55.51575  Non-lymph related  \n",
       "1           9.32352  Non-lymph related  \n",
       "2          50.12008      Lymph related  \n",
       "3           1.58550  Non-lymph related  \n",
       "4          38.42695  Non-lymph related  \n",
       "..              ...                ...  \n",
       "92         86.62561  Non-lymph related  \n",
       "94         47.97376  Non-lymph related  \n",
       "95          5.13403  Non-lymph related  \n",
       "96          0.51364  Non-lymph related  \n",
       "97         11.22022  Non-lymph related  \n",
       "\n",
       "[82 rows x 21 columns]"
      ]
     },
     "execution_count": 2,
     "metadata": {},
     "output_type": "execute_result"
    }
   ],
   "source": [
    "df = pd.read_excel('data/Supplemental-table1.xlsx')\n",
    "\n",
    "# Delete non naive patients\n",
    "df = df.loc[df[\"Cohort\"] == \"Naive\"]\n",
    "\n",
    "df"
   ]
  },
  {
   "cell_type": "code",
   "execution_count": 3,
   "metadata": {},
   "outputs": [],
   "source": [
    "def drop_censored_patients(df: pd.DataFrame, status_name: str, time_name: str, t: float)->pd.DataFrame:\n",
    "    \"\"\" \n",
    "    Delete censored patients from the initial dataframe. A censored patient is a patient with status = 0 and time_event < t.\n",
    "\n",
    "    ### Parameters :\n",
    "    - df : the dataframe to update\n",
    "    - status_name : the name of the status event column in the dataframe\n",
    "    - time_name : the name of the time event column in the dataframe\n",
    "    - t : the time when we look at (threshold).\n",
    "\n",
    "    ### Returns :\n",
    "    The dataframe without censored patients.\n",
    "    \"\"\"\n",
    "\n",
    "    # Get index of to drop patients\n",
    "    to_drop = df.index[np.where((df[status_name] == 0) & (df[time_name]<t))[0]]\n",
    "    print(to_drop)\n",
    "    print(f\"{to_drop.shape[0]} censored patients deleted\")\n",
    "\n",
    "    # Update dataframe\n",
    "    df_non_censored = df.drop(to_drop,axis=0)\n",
    "\n",
    "    return df_non_censored"
   ]
  },
  {
   "cell_type": "code",
   "execution_count": 4,
   "metadata": {},
   "outputs": [
    {
     "name": "stdout",
     "output_type": "stream",
     "text": [
      "Index([3, 9, 56, 72, 78, 85], dtype='int64')\n",
      "6 censored patients deleted\n",
      "Index([10], dtype='int64')\n",
      "1 censored patients deleted\n"
     ]
    }
   ],
   "source": [
    "## TTP (Time To Progression)\n",
    "t_ttp = np.median(df[\"Time to progression (days)\"].to_numpy())\n",
    "df_ttp_non_censored = drop_censored_patients(df, \"Progression_1\", \"Time to progression (days)\", t_ttp)\n",
    "\n",
    "## OS (Overall survival)\n",
    "t_os = np.median(df[\"Overall survival (days)\"].to_numpy())\n",
    "df_os_non_censored = drop_censored_patients(df, \"Alive_0\", \"Overall survival (days)\", t_os)"
   ]
  },
  {
   "attachments": {},
   "cell_type": "markdown",
   "metadata": {},
   "source": [
    "## 1. Building graphs <a name=\"building-graphs\"></a>"
   ]
  },
  {
   "attachments": {},
   "cell_type": "markdown",
   "metadata": {},
   "source": [
    "### 1. Gather per tumour type"
   ]
  },
  {
   "cell_type": "code",
   "execution_count": 5,
   "metadata": {},
   "outputs": [],
   "source": [
    "## TTP :\n",
    "build_graph_tumour_type_ttp = BuildGraph(df_ttp_non_censored)\n",
    "\n",
    "## OS :\n",
    "build_graph_tumour_type_os = BuildGraph(df_os_non_censored)"
   ]
  },
  {
   "attachments": {},
   "cell_type": "markdown",
   "metadata": {},
   "source": [
    "#### Extract tumour type column"
   ]
  },
  {
   "cell_type": "code",
   "execution_count": 6,
   "metadata": {},
   "outputs": [],
   "source": [
    "## TTP :\n",
    "tumour_type_ttp = df_ttp_non_censored[\"Tumour type\"].to_numpy()\n",
    "\n",
    "## OS :\n",
    "tumour_type_os = df_os_non_censored[\"Tumour type\"].to_numpy()"
   ]
  },
  {
   "attachments": {},
   "cell_type": "markdown",
   "metadata": {},
   "source": [
    "#### Compute adjacency matrix"
   ]
  },
  {
   "cell_type": "code",
   "execution_count": 7,
   "metadata": {},
   "outputs": [],
   "source": [
    "## TTP :\n",
    "build_graph_tumour_type_ttp.compute_adjacency_matrix(tumour_type_ttp)\n",
    "\n",
    "# OS :\n",
    "build_graph_tumour_type_os.compute_adjacency_matrix(tumour_type_os)"
   ]
  },
  {
   "attachments": {},
   "cell_type": "markdown",
   "metadata": {},
   "source": [
    "#### Create graph"
   ]
  },
  {
   "cell_type": "code",
   "execution_count": 8,
   "metadata": {},
   "outputs": [],
   "source": [
    "def create_graph(df, A):\n",
    "\n",
    "    # Initialize with empty graph\n",
    "    G = nx.Graph()\n",
    "    \n",
    "    # Add nodes, with its features\n",
    "    for i in range(A.shape[0]):\n",
    "        G.add_nodes_from([(i,{\"x\":df.iloc[[i],:]})])\n",
    "\n",
    "    # Add edges\n",
    "    rows, cols = np.where(A == 1)\n",
    "    edges = zip(rows.tolist(), cols.tolist())\n",
    "    G.add_edges_from(edges)\n",
    "\n",
    "    return G"
   ]
  },
  {
   "cell_type": "code",
   "execution_count": 9,
   "metadata": {},
   "outputs": [],
   "source": [
    "## TTP :\n",
    "G_tumour_type_ttp = create_graph(df_ttp_non_censored, build_graph_tumour_type_ttp.A)\n",
    "\n",
    "## OS :\n",
    "G_tumour_type_os = create_graph(df_os_non_censored, build_graph_tumour_type_os.A)"
   ]
  },
  {
   "attachments": {},
   "cell_type": "markdown",
   "metadata": {},
   "source": [
    "### 2. Gather per KMeans clusters"
   ]
  },
  {
   "cell_type": "code",
   "execution_count": 10,
   "metadata": {},
   "outputs": [],
   "source": [
    "## TTP :\n",
    "build_graph_kmeans_ttp = BuildGraph(df_ttp_non_censored)\n",
    "\n",
    "## OS :\n",
    "build_graph_kmeans_os = BuildGraph(df_os_non_censored)"
   ]
  },
  {
   "attachments": {},
   "cell_type": "markdown",
   "metadata": {},
   "source": [
    "#### Apply clustering\n"
   ]
  },
  {
   "cell_type": "code",
   "execution_count": 11,
   "metadata": {},
   "outputs": [],
   "source": [
    "features_clustering = [\"Tumour type\",\"Sex\",\"Age at advanced disease diagnosis\",\"Clinical benefit\",\"CD8+ T cell score\",\"Exome mut per mb\",\"Genome mut per mb\",\"CD274 expression\",\"M1M2 expression\"]"
   ]
  },
  {
   "cell_type": "code",
   "execution_count": 12,
   "metadata": {},
   "outputs": [],
   "source": [
    "n_clusters = 10\n",
    "\n",
    "## TTP :\n",
    "clusters_kmeans_ttp = build_graph_kmeans_ttp.apply_clustering(KMeans(n_clusters=10, n_init=10),features_clustering)\n",
    "\n",
    "## OS :\n",
    "clusters_kmeans_os = build_graph_kmeans_os.apply_clustering(KMeans(n_clusters=10, n_init=10),features_clustering)"
   ]
  },
  {
   "attachments": {},
   "cell_type": "markdown",
   "metadata": {},
   "source": [
    "#### Compute adjacency matrix"
   ]
  },
  {
   "cell_type": "code",
   "execution_count": 13,
   "metadata": {},
   "outputs": [],
   "source": [
    "## TTP :\n",
    "build_graph_kmeans_ttp.compute_adjacency_matrix(clusters_kmeans_ttp)\n",
    "\n",
    "# OS :\n",
    "build_graph_kmeans_os.compute_adjacency_matrix(clusters_kmeans_os)"
   ]
  },
  {
   "attachments": {},
   "cell_type": "markdown",
   "metadata": {},
   "source": [
    "#### Create graph"
   ]
  },
  {
   "cell_type": "code",
   "execution_count": 14,
   "metadata": {},
   "outputs": [],
   "source": [
    "## TTP :\n",
    "G_kmeans_ttp = create_graph(df_ttp_non_censored, build_graph_kmeans_ttp.A)\n",
    "\n",
    "## OS :\n",
    "G_kmeans_os = create_graph(df_os_non_censored, build_graph_kmeans_os.A)"
   ]
  },
  {
   "attachments": {},
   "cell_type": "markdown",
   "metadata": {},
   "source": [
    "### 3. Gather per Spectral clustering clusters"
   ]
  },
  {
   "cell_type": "code",
   "execution_count": 15,
   "metadata": {},
   "outputs": [],
   "source": [
    "## TTP :\n",
    "build_graph_spec_ttp = BuildGraph(df_ttp_non_censored)\n",
    "\n",
    "## OS :\n",
    "build_graph_spec_os = BuildGraph(df_os_non_censored)"
   ]
  },
  {
   "attachments": {},
   "cell_type": "markdown",
   "metadata": {},
   "source": [
    "#### Apply clustering"
   ]
  },
  {
   "cell_type": "code",
   "execution_count": 16,
   "metadata": {},
   "outputs": [
    {
     "name": "stderr",
     "output_type": "stream",
     "text": [
      "/home/arthur/Documents/TN/3A/Stage/MEDomics/mutational-signatures/venv/lib/python3.10/site-packages/sklearn/manifold/_spectral_embedding.py:274: UserWarning: Graph is not fully connected, spectral embedding may not work as expected.\n",
      "  warnings.warn(\n",
      "/home/arthur/Documents/TN/3A/Stage/MEDomics/mutational-signatures/venv/lib/python3.10/site-packages/sklearn/cluster/_kmeans.py:420: ConvergenceWarning: Number of distinct clusters (2) found smaller than n_clusters (10). Possibly due to duplicate points in X.\n",
      "  est = KMeans(\n",
      "/home/arthur/Documents/TN/3A/Stage/MEDomics/mutational-signatures/venv/lib/python3.10/site-packages/sklearn/manifold/_spectral_embedding.py:274: UserWarning: Graph is not fully connected, spectral embedding may not work as expected.\n",
      "  warnings.warn(\n",
      "/home/arthur/Documents/TN/3A/Stage/MEDomics/mutational-signatures/venv/lib/python3.10/site-packages/sklearn/cluster/_kmeans.py:420: ConvergenceWarning: Number of distinct clusters (3) found smaller than n_clusters (10). Possibly due to duplicate points in X.\n",
      "  est = KMeans(\n"
     ]
    }
   ],
   "source": [
    "## TTP :\n",
    "clusters_spec_ttp = build_graph_spec_ttp.apply_clustering(SpectralClustering(n_clusters=10),features_clustering)\n",
    "\n",
    "## OS :\n",
    "clusters_spec_os = build_graph_spec_os.apply_clustering(SpectralClustering(n_clusters=10),features_clustering)"
   ]
  },
  {
   "attachments": {},
   "cell_type": "markdown",
   "metadata": {},
   "source": [
    "#### Compute adjacency matrix"
   ]
  },
  {
   "cell_type": "code",
   "execution_count": 17,
   "metadata": {},
   "outputs": [],
   "source": [
    "## TTP :\n",
    "build_graph_spec_ttp.compute_adjacency_matrix(clusters_spec_ttp)\n",
    "\n",
    "## OS :\n",
    "build_graph_spec_os.compute_adjacency_matrix(clusters_spec_os)"
   ]
  },
  {
   "attachments": {},
   "cell_type": "markdown",
   "metadata": {},
   "source": [
    "#### Create graph"
   ]
  },
  {
   "cell_type": "code",
   "execution_count": 18,
   "metadata": {},
   "outputs": [],
   "source": [
    "## TTP :\n",
    "G_spec_ttp = create_graph(df_ttp_non_censored, build_graph_spec_ttp.A)\n",
    "\n",
    "## OS :\n",
    "G_spec_os = create_graph(df_os_non_censored, build_graph_spec_os.A)"
   ]
  },
  {
   "attachments": {},
   "cell_type": "markdown",
   "metadata": {},
   "source": [
    "### 4. Gather per hierarchical clustering clusters"
   ]
  },
  {
   "cell_type": "code",
   "execution_count": 19,
   "metadata": {},
   "outputs": [],
   "source": [
    "## TTP :\n",
    "build_graph_hierarchical_ttp = BuildGraph(df_ttp_non_censored)\n",
    "\n",
    "## OS :\n",
    "build_graph_hierarchical_os = BuildGraph(df_os_non_censored)"
   ]
  },
  {
   "attachments": {},
   "cell_type": "markdown",
   "metadata": {},
   "source": [
    "#### Apply clustering"
   ]
  },
  {
   "cell_type": "code",
   "execution_count": 20,
   "metadata": {},
   "outputs": [],
   "source": [
    "## TTP :\n",
    "clusters_hierarchical_ttp = build_graph_hierarchical_ttp.apply_clustering(AgglomerativeClustering(n_clusters=10),features_clustering)\n",
    "\n",
    "## OS :\n",
    "clusters_hierarchical_os = build_graph_hierarchical_os.apply_clustering(AgglomerativeClustering(n_clusters=10),features_clustering)"
   ]
  },
  {
   "attachments": {},
   "cell_type": "markdown",
   "metadata": {},
   "source": [
    "#### Compute adjacency matrix"
   ]
  },
  {
   "cell_type": "code",
   "execution_count": 21,
   "metadata": {},
   "outputs": [],
   "source": [
    "## TTP :\n",
    "build_graph_hierarchical_ttp.compute_adjacency_matrix(clusters_hierarchical_ttp)\n",
    "\n",
    "## OS :\n",
    "build_graph_hierarchical_os.compute_adjacency_matrix(clusters_hierarchical_os)"
   ]
  },
  {
   "attachments": {},
   "cell_type": "markdown",
   "metadata": {},
   "source": [
    "#### Create graph"
   ]
  },
  {
   "cell_type": "code",
   "execution_count": 22,
   "metadata": {},
   "outputs": [],
   "source": [
    "## TTP :\n",
    "G_hierarchical_ttp = create_graph(df_ttp_non_censored, build_graph_hierarchical_ttp.A)\n",
    "\n",
    "## OS :\n",
    "G_hierarchical_os = create_graph(df_os_non_censored, build_graph_hierarchical_os.A)"
   ]
  },
  {
   "attachments": {},
   "cell_type": "markdown",
   "metadata": {},
   "source": [
    "## 2. Print connected patients <a name=\"print-connected-patient\"></a>"
   ]
  },
  {
   "cell_type": "code",
   "execution_count": 23,
   "metadata": {},
   "outputs": [],
   "source": [
    "def get_neighbours_features(G, node):\n",
    "    \"\"\" \n",
    "    Get the neighbours features of the node.\n",
    "\n",
    "    ### Parameters :\n",
    "    - G : the graph where we look at\n",
    "    - node : the node for which we want to extract the features\n",
    "\n",
    "    ### Returns :\n",
    "    The dataframe of neighbours features\n",
    "    \"\"\"\n",
    "    df_neighbours = pd.DataFrame(G._node[node]['x'])\n",
    "    neighbours = [n for n in G[node]]\n",
    "    for n in neighbours:\n",
    "        if n != node:\n",
    "            df_neighbours = pd.concat([df_neighbours, G._node[n][\"x\"]])\n",
    "    return neighbours, df_neighbours\n",
    "\n",
    "def analyze_similar_features_proportion(df: pd.DataFrame, feature_name: str):\n",
    "    \"\"\" \n",
    "    Give the proportion of similar features in the corresponding dataframe.\n",
    "    \"\"\"\n",
    "    # Get features column\n",
    "    features = df[feature_name].to_numpy()\n",
    "\n",
    "    # Get proportion of similarity for each value\n",
    "    values, counts = np.unique(features, return_counts=True)\n",
    "    counts = counts/df.shape[0]\n",
    "    \n",
    "    return values, counts"
   ]
  },
  {
   "cell_type": "code",
   "execution_count": 24,
   "metadata": {},
   "outputs": [],
   "source": [
    "def all_neighbours_features(G, feature_name):\n",
    "    \"\"\" \n",
    "    \n",
    "    \"\"\"\n",
    "    # List of nodes of the graph\n",
    "    nodes = list(G.nodes)\n",
    "    \n",
    "    # List of neighbours already checked\n",
    "    checked = []\n",
    "\n",
    "    # List of values / counts\n",
    "    list_values_counts = []\n",
    "\n",
    "    for node in nodes:\n",
    "        if node not in checked:\n",
    "            neighbours, df_neighbours = get_neighbours_features(G, node)\n",
    "            list_values_counts.append(analyze_similar_features_proportion(df_neighbours, feature_name))\n",
    "            for neighbour in neighbours:\n",
    "                checked.append(neighbour)\n",
    "\n",
    "    return list_values_counts"
   ]
  },
  {
   "attachments": {},
   "cell_type": "markdown",
   "metadata": {},
   "source": [
    "### Tumour type similarity evaluation"
   ]
  },
  {
   "attachments": {},
   "cell_type": "markdown",
   "metadata": {},
   "source": [
    "#### Initial distribution of tumour types"
   ]
  },
  {
   "cell_type": "code",
   "execution_count": 25,
   "metadata": {},
   "outputs": [
    {
     "name": "stdout",
     "output_type": "stream",
     "text": [
      "ACC 0.02631578947368421\n",
      "AECA 0.02631578947368421\n",
      "BRCA 0.15789473684210525\n",
      "CHOL 0.02631578947368421\n",
      "COLO 0.07894736842105263\n",
      "ESCA 0.013157894736842105\n",
      "GCT 0.013157894736842105\n",
      "HNSC 0.039473684210526314\n",
      "KDNY 0.02631578947368421\n",
      "LUNG 0.2894736842105263\n",
      "LYMP 0.013157894736842105\n",
      "OV 0.013157894736842105\n",
      "PANC 0.02631578947368421\n",
      "SARC 0.06578947368421052\n",
      "SKCM 0.07894736842105263\n",
      "STAD 0.02631578947368421\n",
      "THYM 0.013157894736842105\n",
      "UCEC 0.039473684210526314\n",
      "UVM 0.02631578947368421\n"
     ]
    }
   ],
   "source": [
    "## TTP :\n",
    "values_ttp, counts_ttp = np.unique(df_ttp_non_censored[\"Tumour type\"].to_numpy(),return_counts=True)\n",
    "counts_ttp = counts_ttp/df_ttp_non_censored.shape[0]\n",
    "\n",
    "for i in range(len(values_ttp)):\n",
    "    print(values_ttp[i], counts_ttp[i])"
   ]
  },
  {
   "cell_type": "code",
   "execution_count": 26,
   "metadata": {},
   "outputs": [
    {
     "name": "stdout",
     "output_type": "stream",
     "text": [
      "ACC 0.024691358024691357\n",
      "AECA 0.024691358024691357\n",
      "BRCA 0.14814814814814814\n",
      "CHOL 0.037037037037037035\n",
      "COLO 0.06172839506172839\n",
      "ESCA 0.012345679012345678\n",
      "GCT 0.012345679012345678\n",
      "HNSC 0.04938271604938271\n",
      "KDNY 0.024691358024691357\n",
      "LUNG 0.30864197530864196\n",
      "LYMP 0.012345679012345678\n",
      "OV 0.012345679012345678\n",
      "PANC 0.024691358024691357\n",
      "SARC 0.06172839506172839\n",
      "SKCM 0.08641975308641975\n",
      "STAD 0.024691358024691357\n",
      "THYM 0.012345679012345678\n",
      "UCEC 0.037037037037037035\n",
      "UVM 0.024691358024691357\n"
     ]
    }
   ],
   "source": [
    "## OS :\n",
    "values_os, counts_os = np.unique(df_os_non_censored[\"Tumour type\"].to_numpy(),return_counts=True)\n",
    "counts_os = counts_os/df_os_non_censored.shape[0]\n",
    "\n",
    "for i in range(len(values_os)):\n",
    "    print(values_os[i], counts_os[i])"
   ]
  },
  {
   "attachments": {},
   "cell_type": "markdown",
   "metadata": {},
   "source": [
    "##### KMeans clusters"
   ]
  },
  {
   "cell_type": "code",
   "execution_count": 27,
   "metadata": {},
   "outputs": [],
   "source": [
    "## TTP :\n",
    "values_counts_kmeans_ttp = all_neighbours_features(G_kmeans_ttp, \"Tumour type\")\n",
    "\n",
    "\n",
    "## OS :\n",
    "values_counts_kmeans_os = all_neighbours_features(G_kmeans_os, \"Tumour type\")"
   ]
  },
  {
   "cell_type": "code",
   "execution_count": 28,
   "metadata": {},
   "outputs": [
    {
     "data": {
      "text/plain": [
       "Text(0.5, 1.0, 'Proportion of similarity : cluster KMeans 0 (OS)')"
      ]
     },
     "execution_count": 28,
     "metadata": {},
     "output_type": "execute_result"
    },
    {
     "data": {
      "image/png": "[encoded data removed]",
      "text/plain": [
       "<Figure size 1000x700 with 2 Axes>"
      ]
     },
     "metadata": {},
     "output_type": "display_data"
    }
   ],
   "source": [
    "fig, ax = plt.subplots(2,1,figsize=(10,7))\n",
    "\n",
    "## TTP :\n",
    "ax[0].barh(values_counts_kmeans_ttp[0][0],values_counts_kmeans_ttp[0][1])\n",
    "ax[0].set_xlabel(\"Proportion of similar features\")\n",
    "ax[0].set_ylabel(\"Values of tumour type\")\n",
    "ax[0].set_title(\"Proportion of similarity : cluster KMeans 0 (TTP)\")\n",
    "\n",
    "## OS :\n",
    "ax[1].barh(values_counts_kmeans_os[0][0],values_counts_kmeans_os[0][1])\n",
    "ax[1].set_xlabel(\"Proportion of similar features\")\n",
    "ax[1].set_ylabel(\"Values of tumour type\")\n",
    "ax[1].set_title(\"Proportion of similarity : cluster KMeans 0 (OS)\")"
   ]
  },
  {
   "attachments": {},
   "cell_type": "markdown",
   "metadata": {},
   "source": [
    "##### Spectral clustering clusters"
   ]
  },
  {
   "cell_type": "code",
   "execution_count": 29,
   "metadata": {},
   "outputs": [],
   "source": [
    "## TTP :\n",
    "values_counts_spec_ttp = all_neighbours_features(G_spec_ttp, \"Tumour type\")\n",
    "\n",
    "## OS :\n",
    "values_counts_spec_os = all_neighbours_features(G_spec_os, \"Tumour type\")"
   ]
  },
  {
   "cell_type": "code",
   "execution_count": 30,
   "metadata": {},
   "outputs": [
    {
     "data": {
      "text/plain": [
       "Text(0.5, 1.0, 'Proportion of similarity : cluster Spectral 0 (OS)')"
      ]
     },
     "execution_count": 30,
     "metadata": {},
     "output_type": "execute_result"
    },
    {
     "data": {
      "image/png": "[encoded data removed]",
      "text/plain": [
       "<Figure size 1000x700 with 2 Axes>"
      ]
     },
     "metadata": {},
     "output_type": "display_data"
    }
   ],
   "source": [
    "fig, ax = plt.subplots(2,1,figsize=(10,7))\n",
    "\n",
    "## TTP :\n",
    "ax[0].barh(values_counts_spec_ttp[0][0],values_counts_spec_ttp[0][1])\n",
    "ax[0].set_xlabel(\"Proportion of similar features\")\n",
    "ax[0].set_ylabel(\"Values of tumour type\")\n",
    "ax[0].set_title(\"Proportion of similarity : cluster Spectral 0 (TTP)\")\n",
    "\n",
    "## OS :\n",
    "ax[1].barh(values_counts_spec_os[0][0],values_counts_spec_os[0][1])\n",
    "ax[1].set_xlabel(\"Proportion of similar features\")\n",
    "ax[1].set_ylabel(\"Values of tumour type\")\n",
    "ax[1].set_title(\"Proportion of similarity : cluster Spectral 0 (OS)\")"
   ]
  },
  {
   "attachments": {},
   "cell_type": "markdown",
   "metadata": {},
   "source": [
    "##### Hierarchical clustering clusters"
   ]
  },
  {
   "cell_type": "code",
   "execution_count": 31,
   "metadata": {},
   "outputs": [],
   "source": [
    "## TTP :\n",
    "values_counts_hierarchical_ttp = all_neighbours_features(G_hierarchical_ttp, \"Tumour type\")\n",
    "\n",
    "## OS :\n",
    "values_counts_hierarchical_os = all_neighbours_features(G_hierarchical_os, \"Tumour type\")"
   ]
  },
  {
   "cell_type": "code",
   "execution_count": 32,
   "metadata": {},
   "outputs": [
    {
     "data": {
      "text/plain": [
       "Text(0.5, 1.0, 'Proportion of similarity : cluster Hierarchical 0 (OS)')"
      ]
     },
     "execution_count": 32,
     "metadata": {},
     "output_type": "execute_result"
    },
    {
     "data": {
      "image/png": "[encoded data removed]",
      "text/plain": [
       "<Figure size 1000x700 with 2 Axes>"
      ]
     },
     "metadata": {},
     "output_type": "display_data"
    }
   ],
   "source": [
    "fig, ax = plt.subplots(2,1,figsize=(10,7))\n",
    "\n",
    "## TTP :\n",
    "ax[0].barh(values_counts_hierarchical_ttp[0][0],values_counts_hierarchical_ttp[0][1])\n",
    "ax[0].set_xlabel(\"Proportion of similar features\")\n",
    "ax[0].set_ylabel(\"Values of tumour type\")\n",
    "ax[0].set_title(\"Proportion of similarity : cluster Hierarchical 0 (TTP)\")\n",
    "\n",
    "## OS :\n",
    "ax[1].barh(values_counts_hierarchical_os[0][0],values_counts_hierarchical_os[0][1])\n",
    "ax[1].set_xlabel(\"Proportion of similar features\")\n",
    "ax[1].set_ylabel(\"Values of tumour type\")\n",
    "ax[1].set_title(\"Proportion of similarity : cluster Hierarchical 0 (OS)\")"
   ]
  },
  {
   "attachments": {},
   "cell_type": "markdown",
   "metadata": {},
   "source": [
    "## 3. Print number of distinct subgraphs <a name=\"print-n-subgraphs\"></a>"
   ]
  },
  {
   "cell_type": "code",
   "execution_count": null,
   "metadata": {},
   "outputs": [],
   "source": []
  },
  {
   "attachments": {},
   "cell_type": "markdown",
   "metadata": {},
   "source": [
    "## 4. Print number of neighbours per node"
   ]
  },
  {
   "cell_type": "code",
   "execution_count": null,
   "metadata": {},
   "outputs": [],
   "source": []
  }
 ],
 "metadata": {
  "kernelspec": {
   "display_name": "venv",
   "language": "python",
   "name": "python3"
  },
  "language_info": {
   "codemirror_mode": {
    "name": "ipython",
    "version": 3
   },
   "file_extension": ".py",
   "mimetype": "text/x-python",
   "name": "python",
   "nbconvert_exporter": "python",
   "pygments_lexer": "ipython3",
   "version": "3.10.6"
  },
  "orig_nbformat": 4
 },
 "nbformat": 4,
 "nbformat_minor": 2
}
